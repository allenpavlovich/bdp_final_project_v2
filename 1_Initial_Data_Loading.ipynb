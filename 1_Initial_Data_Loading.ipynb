{
 "cells": [
  {
   "cell_type": "markdown",
   "id": "df180e90-bfd4-4368-9016-5352c659c456",
   "metadata": {},
   "source": [
    "# Big Data and Cloud Computing - Final Project\n",
    "\n",
    "## Initial Data Loading\n",
    "\n",
    "### Author:\n",
    "Alen Pavlovic\n",
    "\n",
    "The University of Chicago"
   ]
  },
  {
   "cell_type": "code",
   "execution_count": 1,
   "id": "74288c85-6e2f-4560-b3aa-dad157d6573e",
   "metadata": {
    "tags": []
   },
   "outputs": [],
   "source": [
    "import os\n",
    "import subprocess\n",
    "import datetime\n",
    "import pandas as pd\n",
    "import numpy as np\n",
    "\n",
    "import matplotlib.pyplot as plt\n",
    "import seaborn as sns\n",
    "\n",
    "from pyspark.sql import functions as F\n",
    "from pyspark.sql.types import *"
   ]
  },
  {
   "cell_type": "code",
   "execution_count": 2,
   "id": "b77db2c9-487f-418b-b687-c913d6acff2d",
   "metadata": {
    "tags": []
   },
   "outputs": [],
   "source": [
    "# Display settings\n",
    "pd.set_option('display.max_rows', 100)\n",
    "pd.set_option('display.max_columns', None)\n",
    "pd.set_option('display.max_colwidth', None)"
   ]
  },
  {
   "cell_type": "code",
   "execution_count": 3,
   "id": "2623ec1c-fb0b-4eb5-92be-d705185f564d",
   "metadata": {
    "tags": []
   },
   "outputs": [],
   "source": [
    "# Enable eager evaluation\n",
    "spark.conf.set(\"spark.sql.repl.eagerEval.enabled\", True)"
   ]
  },
  {
   "cell_type": "code",
   "execution_count": 5,
   "id": "bd2ed14b-7a15-43bc-b2cd-269ae2ecefc9",
   "metadata": {
    "tags": []
   },
   "outputs": [],
   "source": [
    "# GCS path to the data\n",
    "gcs_folder = 'gs://msca-bdp-data-open/final_project_reviews'\n",
    "\n",
    "# Intermediate storage bucket - apavlovic\n",
    "intermediate_bucket = 'gs://msca-bdp-students-bucket/shared_data/apavlovic/final_project'"
   ]
  },
  {
   "cell_type": "code",
   "execution_count": 6,
   "id": "70d5f7bb-df7e-4788-9c5e-67155bcbc054",
   "metadata": {
    "tags": []
   },
   "outputs": [],
   "source": [
    "# ---------------------------------------------------\n",
    "# 1. CHECK DATA SIZE IN GCS\n",
    "# ---------------------------------------------------\n",
    "\n",
    "def check_folder_size(folder_path):\n",
    "    \"\"\"Check the size of a GCS folder\"\"\"\n",
    "    cmd = f'gsutil du -s -h {folder_path}'\n",
    "    \n",
    "    p = subprocess.Popen(cmd, shell=True, stdout=subprocess.PIPE, stderr=subprocess.STDOUT, universal_newlines=True)\n",
    "    for line in p.stdout.readlines():\n",
    "        print(f'Total directory size: {line}')\n",
    "    \n",
    "    retval = p.wait()  # Wait for child process to terminate"
   ]
  },
  {
   "cell_type": "code",
   "execution_count": 7,
   "id": "e0b6c4c7-92be-41f8-abf8-1e29eeb52975",
   "metadata": {
    "tags": []
   },
   "outputs": [
    {
     "name": "stdout",
     "output_type": "stream",
     "text": [
      "Checking data size in GCS bucket...\n",
      "Total directory size: 75.75 GiB    gs://msca-bdp-data-open/final_project_reviews\n",
      "\n"
     ]
    }
   ],
   "source": [
    "print(\"Checking data size in GCS bucket...\")\n",
    "check_folder_size(gcs_folder)"
   ]
  },
  {
   "cell_type": "code",
   "execution_count": 8,
   "id": "bcb4ca64-b370-441c-aee6-c3afbe768e8a",
   "metadata": {
    "tags": []
   },
   "outputs": [],
   "source": [
    "# ---------------------------------------------------\n",
    "# 2. BASIC DATA LOADING\n",
    "# ---------------------------------------------------\n",
    "\n",
    "def load_reviews_sample(sample_fraction=0.001):\n",
    "    \"\"\"Load a small sample of the reviews data for exploration\"\"\"\n",
    "    print(f\"Loading {sample_fraction*100}% sample of reviews data...\")\n",
    "    \n",
    "    # Read the entire reviews dataset\n",
    "    df_reviews = spark.read.parquet(os.path.join(gcs_folder, 'reviews_parquet'))\n",
    "    \n",
    "    # Take a sample for exploration\n",
    "    if sample_fraction < 1.0:\n",
    "        df_reviews_sample = df_reviews.sample(fraction=sample_fraction, seed=42)\n",
    "        print(f\"Sample size: {df_reviews_sample.count():,} records\")\n",
    "        return df_reviews_sample\n",
    "    else:\n",
    "        print(f\"Full dataset size: {df_reviews.count():,} records\")\n",
    "        return df_reviews\n",
    "    \n",
    "def load_meta_sample(sample_fraction=0.01):\n",
    "    \"\"\"Load a small sample of the metadata for exploration\"\"\"\n",
    "    print(f\"Loading {sample_fraction*100}% sample of metadata...\")\n",
    "    \n",
    "    # Read the entire metadata dataset\n",
    "    df_meta = spark.read.parquet(os.path.join(gcs_folder, 'meta_parquet'))\n",
    "    \n",
    "    # Take a sample for exploration\n",
    "    if sample_fraction < 1.0:\n",
    "        df_meta_sample = df_meta.sample(fraction=sample_fraction, seed=42)\n",
    "        print(f\"Sample size: {df_meta_sample.count():,} records\")\n",
    "        return df_meta_sample\n",
    "    else:\n",
    "        print(f\"Full dataset size: {df_meta.count():,} records\")\n",
    "        return df_meta"
   ]
  },
  {
   "cell_type": "code",
   "execution_count": 9,
   "id": "76339822-edb0-466e-879f-1e64739672ac",
   "metadata": {
    "tags": []
   },
   "outputs": [
    {
     "name": "stdout",
     "output_type": "stream",
     "text": [
      "Loading 0.1% sample of reviews data...\n"
     ]
    },
    {
     "name": "stderr",
     "output_type": "stream",
     "text": [
      "                                                                                \r"
     ]
    },
    {
     "name": "stdout",
     "output_type": "stream",
     "text": [
      "Sample size: 64,380 records\n",
      "Loading 1.0% sample of metadata...\n"
     ]
    },
    {
     "name": "stderr",
     "output_type": "stream",
     "text": [
      "[Stage 5:========================================>                 (9 + 4) / 13]\r"
     ]
    },
    {
     "name": "stdout",
     "output_type": "stream",
     "text": [
      "Sample size: 43,305 records\n"
     ]
    },
    {
     "name": "stderr",
     "output_type": "stream",
     "text": [
      "                                                                                \r"
     ]
    }
   ],
   "source": [
    "reviews_sample = load_reviews_sample()\n",
    "meta_sample = load_meta_sample()"
   ]
  },
  {
   "cell_type": "code",
   "execution_count": 12,
   "id": "08c66a69-97e1-44cc-b387-48dbab5f87c9",
   "metadata": {
    "tags": []
   },
   "outputs": [],
   "source": [
    "#reviews_sample\n",
    "#meta_sample"
   ]
  },
  {
   "cell_type": "code",
   "execution_count": 17,
   "id": "65d2c7af-dbc5-484e-8ecf-b03399535c66",
   "metadata": {
    "tags": []
   },
   "outputs": [
    {
     "name": "stdout",
     "output_type": "stream",
     "text": [
      "\n",
      "--- Reviews Data Schema ---\n",
      "root\n",
      " |-- asin: string (nullable = true)\n",
      " |-- helpful_vote: long (nullable = true)\n",
      " |-- parent_asin: string (nullable = true)\n",
      " |-- rating: double (nullable = true)\n",
      " |-- text: string (nullable = true)\n",
      " |-- timestamp: long (nullable = true)\n",
      " |-- title: string (nullable = true)\n",
      " |-- user_id: string (nullable = true)\n",
      " |-- verified_purchase: boolean (nullable = true)\n",
      "\n",
      "\n",
      "--- Metadata Schema ---\n",
      "root\n",
      " |-- author: struct (nullable = true)\n",
      " |    |-- about: array (nullable = true)\n",
      " |    |    |-- element: string (containsNull = true)\n",
      " |    |-- avatar: string (nullable = true)\n",
      " |    |-- name: string (nullable = true)\n",
      " |-- average_rating: double (nullable = true)\n",
      " |-- bought_together: string (nullable = true)\n",
      " |-- categories: array (nullable = true)\n",
      " |    |-- element: string (containsNull = true)\n",
      " |-- description: array (nullable = true)\n",
      " |    |-- element: string (containsNull = true)\n",
      " |-- main_category: string (nullable = true)\n",
      " |-- parent_asin: string (nullable = true)\n",
      " |-- price: string (nullable = true)\n",
      " |-- rating_number: long (nullable = true)\n",
      " |-- store: string (nullable = true)\n",
      " |-- subtitle: string (nullable = true)\n",
      " |-- title: string (nullable = true)\n",
      "\n"
     ]
    }
   ],
   "source": [
    "# ---------------------------------------------------\n",
    "# 3. EXPLORE DATA STRUCTURE\n",
    "# ---------------------------------------------------\n",
    "\n",
    "print(\"\\n--- Reviews Data Schema ---\")\n",
    "reviews_sample.printSchema()\n",
    "\n",
    "print(\"\\n--- Metadata Schema ---\")\n",
    "meta_sample.printSchema()"
   ]
  },
  {
   "cell_type": "code",
   "execution_count": 41,
   "id": "493b83fd-8639-4b97-a6eb-550ce7cdaf5d",
   "metadata": {
    "tags": []
   },
   "outputs": [
    {
     "name": "stdout",
     "output_type": "stream",
     "text": [
      "\n",
      "--- Sample Reviews Data ---\n"
     ]
    },
    {
     "name": "stderr",
     "output_type": "stream",
     "text": [
      "                                                                                \r"
     ]
    },
    {
     "name": "stdout",
     "output_type": "stream",
     "text": [
      "+----------+------------+-----------+------+--------------------+-------------+--------------------+--------------------+-----------------+\n",
      "|      asin|helpful_vote|parent_asin|rating|                text|    timestamp|               title|             user_id|verified_purchase|\n",
      "+----------+------------+-----------+------+--------------------+-------------+--------------------+--------------------+-----------------+\n",
      "|B09CBNY1SB|           2| B09CBNY1SB|   3.0|[[VIDEOID:3f9ba83...|1658512339071|           It's Ok🧡|AGCFOUKPOYBQJFN4F...|            false|\n",
      "|B00I3N6AM8|           0| B00I3N6AM8|   3.0|I have received t...|1461374668000|Reasonable Price ...|AFDOQTCP7SI36QPDC...|            false|\n",
      "|B01KI40G3I|           0| B01LX6I5X0|   5.0|           Love it!!|1523381799799|          Five Stars|AEKIAS5INUOBSFLUH...|             true|\n",
      "|B0058K1MJ0|           4| B0058K1MJ0|   5.0|I don't understan...|1621392460645|Why are they do e...|AE3G4X4NUNDMZESTV...|            false|\n",
      "|B08R7P97F6|           0| B08R7P97F6|   5.0|Not only does thi...|1659054380866|            Amazing!|AEJ5BJJ27OQTMKWEJ...|             true|\n",
      "+----------+------------+-----------+------+--------------------+-------------+--------------------+--------------------+-----------------+\n",
      "\n",
      "\n",
      "--- Sample Metadata ---\n",
      "+------+--------------+---------------+--------------------+--------------------+--------------+-----------+-----+-------------+--------------+--------+--------------------+\n",
      "|author|average_rating|bought_together|          categories|         description| main_category|parent_asin|price|rating_number|         store|subtitle|               title|\n",
      "+------+--------------+---------------+--------------------+--------------------+--------------+-----------+-----+-------------+--------------+--------+--------------------+\n",
      "|  NULL|           4.4|           NULL|[Beauty & Persona...|[Wow your friends...|    All Beauty| B0C1P4S34H| 5.99|           16|    Fawalyanle|    NULL|Personalized Temp...|\n",
      "|  NULL|           4.1|           NULL|[Beauty & Persona...|[The Healthy You ...|          NULL| B08769W6BC| NULL|           31|   Healthy You|    NULL|Massage Face Pill...|\n",
      "|  NULL|           4.3|           NULL|[Beauty & Persona...|[One Smart Cookie...|          NULL| B06X16GZCB| NULL|            7|Perfectly Posh|    NULL|Perfectly Posh On...|\n",
      "|  NULL|           4.6|           NULL|[Beauty & Persona...|                  []|Premium Beauty| B08V53LL23| NULL|           22|          NULL|    NULL|Dose of Colors Li...|\n",
      "|  NULL|           5.0|           NULL|[Automotive, Exte...|        [BRAND NEW!]|    Automotive| B00OBT9X04| 4.99|            1|   JS Artworks|    NULL|Caution Student D...|\n",
      "+------+--------------+---------------+--------------------+--------------------+--------------+-----------+-----+-------------+--------------+--------+--------------------+\n",
      "\n"
     ]
    }
   ],
   "source": [
    "# Print few rows\n",
    "print(\"\\n--- Sample Reviews Data ---\")\n",
    "reviews_sample.limit(5).show()\n",
    "\n",
    "print(\"\\n--- Sample Metadata ---\")\n",
    "meta_sample.limit(5).show()"
   ]
  },
  {
   "cell_type": "code",
   "execution_count": 22,
   "id": "fe236e54-615e-4fbb-8fa0-ef0d2c3093c4",
   "metadata": {
    "tags": []
   },
   "outputs": [
    {
     "name": "stdout",
     "output_type": "stream",
     "text": [
      "\n",
      "--- Missing Values in Reviews ---\n"
     ]
    },
    {
     "name": "stderr",
     "output_type": "stream",
     "text": [
      "                                                                                \r"
     ]
    },
    {
     "name": "stdout",
     "output_type": "stream",
     "text": [
      "Column 'asin': 0 nulls (0.00%)\n"
     ]
    },
    {
     "name": "stderr",
     "output_type": "stream",
     "text": [
      "                                                                                \r"
     ]
    },
    {
     "name": "stdout",
     "output_type": "stream",
     "text": [
      "Column 'helpful_vote': 0 nulls (0.00%)\n"
     ]
    },
    {
     "name": "stderr",
     "output_type": "stream",
     "text": [
      "                                                                                \r"
     ]
    },
    {
     "name": "stdout",
     "output_type": "stream",
     "text": [
      "Column 'parent_asin': 0 nulls (0.00%)\n"
     ]
    },
    {
     "name": "stderr",
     "output_type": "stream",
     "text": [
      "                                                                                \r"
     ]
    },
    {
     "name": "stdout",
     "output_type": "stream",
     "text": [
      "Column 'rating': 0 nulls (0.00%)\n"
     ]
    },
    {
     "name": "stderr",
     "output_type": "stream",
     "text": [
      "                                                                                \r"
     ]
    },
    {
     "name": "stdout",
     "output_type": "stream",
     "text": [
      "Column 'text': 0 nulls (0.00%)\n"
     ]
    },
    {
     "name": "stderr",
     "output_type": "stream",
     "text": [
      "                                                                                \r"
     ]
    },
    {
     "name": "stdout",
     "output_type": "stream",
     "text": [
      "Column 'timestamp': 0 nulls (0.00%)\n"
     ]
    },
    {
     "name": "stderr",
     "output_type": "stream",
     "text": [
      "                                                                                \r"
     ]
    },
    {
     "name": "stdout",
     "output_type": "stream",
     "text": [
      "Column 'title': 0 nulls (0.00%)\n"
     ]
    },
    {
     "name": "stderr",
     "output_type": "stream",
     "text": [
      "                                                                                \r"
     ]
    },
    {
     "name": "stdout",
     "output_type": "stream",
     "text": [
      "Column 'user_id': 0 nulls (0.00%)\n"
     ]
    },
    {
     "name": "stderr",
     "output_type": "stream",
     "text": [
      "[Stage 73:===============================================>       (87 + 8) / 100]\r"
     ]
    },
    {
     "name": "stdout",
     "output_type": "stream",
     "text": [
      "Column 'verified_purchase': 0 nulls (0.00%)\n"
     ]
    },
    {
     "name": "stderr",
     "output_type": "stream",
     "text": [
      "                                                                                \r"
     ]
    }
   ],
   "source": [
    "# ---------------------------------------------------\n",
    "# 4. BASIC DATA EXPLORATION\n",
    "# ---------------------------------------------------\n",
    "\n",
    "print(\"\\n--- Missing Values in Reviews ---\")\n",
    "for col in reviews_sample.columns:\n",
    "    null_count = reviews_sample.filter(F.col(col).isNull()).count()\n",
    "    total_count = reviews_sample.count()\n",
    "    print(f\"Column '{col}': {null_count:,} nulls ({null_count/total_count*100:.2f}%)\")"
   ]
  },
  {
   "cell_type": "code",
   "execution_count": 23,
   "id": "58079b9d-0bda-457d-b834-bc6717159fa9",
   "metadata": {
    "tags": []
   },
   "outputs": [
    {
     "name": "stdout",
     "output_type": "stream",
     "text": [
      "\n",
      "--- Review Date Distribution ---\n"
     ]
    },
    {
     "name": "stderr",
     "output_type": "stream",
     "text": [
      "[Stage 76:=====================================================> (98 + 2) / 100]\r"
     ]
    },
    {
     "name": "stdout",
     "output_type": "stream",
     "text": [
      "+----+-----+\n",
      "|year|count|\n",
      "+----+-----+\n",
      "|2004|    1|\n",
      "|2005|   11|\n",
      "|2006|    6|\n",
      "|2007|   11|\n",
      "|2008|   37|\n",
      "|2009|   60|\n",
      "|2010|  105|\n",
      "|2011|  232|\n",
      "|2012|  529|\n",
      "|2013| 1486|\n",
      "|2014| 2545|\n",
      "|2015| 4157|\n",
      "|2016| 4946|\n",
      "|2017| 5164|\n",
      "|2018| 5840|\n",
      "|2019| 8162|\n",
      "|2020| 8875|\n",
      "|2021| 9447|\n",
      "|2022| 8938|\n",
      "|2023| 3828|\n",
      "+----+-----+\n",
      "\n"
     ]
    },
    {
     "name": "stderr",
     "output_type": "stream",
     "text": [
      "                                                                                \r"
     ]
    }
   ],
   "source": [
    "print(\"\\n--- Review Date Distribution ---\")\n",
    "reviews_sample_with_date = reviews_sample.withColumn(\n",
    "    \"review_date\", \n",
    "    F.to_date(F.from_unixtime(F.col(\"timestamp\") / 1000))\n",
    ")\n",
    "\n",
    "date_dist = reviews_sample_with_date.groupBy(\n",
    "    F.year(\"review_date\").alias(\"year\")\n",
    ").count().orderBy(\"year\")\n",
    "\n",
    "date_dist.show()"
   ]
  },
  {
   "cell_type": "code",
   "execution_count": 32,
   "id": "5c2046dd-1b83-4b5a-a171-5ee4546555ce",
   "metadata": {
    "tags": []
   },
   "outputs": [],
   "source": [
    "# ---------------------------------------------------\n",
    "# 5. CREATE HELPER FUNCTIONS FOR FULL ANALYSIS\n",
    "# ---------------------------------------------------\n",
    "\n",
    "def create_intermediate_folder():\n",
    "    \"\"\"Create intermediate folder if it doesn't exist\"\"\"\n",
    "    cmd = f'gsutil ls {intermediate_bucket}'\n",
    "    try:\n",
    "        p = subprocess.Popen(cmd, shell=True, stdout=subprocess.PIPE, stderr=subprocess.PIPE)\n",
    "        output, error = p.communicate()\n",
    "        \n",
    "        if p.returncode != 0:\n",
    "            # Bucket/folder doesn't exist, create it\n",
    "            cmd = f'gsutil mkdir -p {intermediate_bucket}'\n",
    "            subprocess.run(cmd, shell=True)\n",
    "            print(f\"Created intermediate bucket: {intermediate_bucket}\")\n",
    "        else:\n",
    "            print(f\"Intermediate bucket already exists: {intermediate_bucket}\")\n",
    "    except Exception as e:\n",
    "        print(f\"Error checking/creating bucket: {str(e)}\")"
   ]
  },
  {
   "cell_type": "code",
   "execution_count": 35,
   "id": "154a0c5f-6c0a-4815-a3bd-ad3e53c2f2ee",
   "metadata": {
    "tags": []
   },
   "outputs": [],
   "source": [
    "def process_full_reviews_data():\n",
    "    \"\"\"Process the full reviews dataset with basic transformations\"\"\"\n",
    "    # Load full reviews dataset\n",
    "    df_reviews = spark.read.parquet(os.path.join(gcs_folder, 'reviews_parquet'))\n",
    "    \n",
    "    # Basic preprocessing\n",
    "    df_reviews_processed = df_reviews.withColumn(\n",
    "        \"review_date\", \n",
    "        F.to_date(F.from_unixtime(F.col(\"timestamp\") / 1000))\n",
    "    )\n",
    "    \n",
    "    # Add year and month columns for time analysis\n",
    "    df_reviews_processed = df_reviews_processed.withColumn(\"review_year\", F.year(\"review_date\"))\n",
    "    df_reviews_processed = df_reviews_processed.withColumn(\"review_month\", F.month(\"review_date\"))\n",
    "    \n",
    "    # Filter out records with null essential fields\n",
    "    df_reviews_clean = df_reviews_processed.filter(\n",
    "        (F.col(\"asin\").isNotNull()) & \n",
    "        (F.col(\"user_id\").isNotNull()) &\n",
    "        (F.col(\"review_date\").isNotNull())\n",
    "    )\n",
    "    \n",
    "    # Save processed data\n",
    "    df_reviews_clean.write.mode(\"overwrite\").parquet(f\"{intermediate_bucket}/reviews_processed\")\n",
    "    print(f\"Processed {df_reviews_clean.count():,} review records and saved to {intermediate_bucket}/reviews_processed\")\n",
    "    \n",
    "    return df_reviews_clean"
   ]
  },
  {
   "cell_type": "code",
   "execution_count": 36,
   "id": "5a987dc1-2213-41ef-aae3-b2d37cb8d35d",
   "metadata": {
    "tags": []
   },
   "outputs": [],
   "source": [
    "def process_full_meta_data():\n",
    "    \"\"\"Process the full metadata dataset with basic transformations\"\"\"\n",
    "    # Load full metadata\n",
    "    df_meta = spark.read.parquet(os.path.join(gcs_folder, 'meta_parquet'))\n",
    "    \n",
    "    # Basic preprocessing - clean up price field and explode categories\n",
    "    df_meta_processed = df_meta.withColumn(\n",
    "        \"price_clean\", \n",
    "        F.regexp_replace(F.col(\"price\"), \"\\\\$\", \"\").cast(\"float\")\n",
    "    )\n",
    "    \n",
    "    # Ensure parent_asin is not null\n",
    "    df_meta_clean = df_meta_processed.filter(F.col(\"parent_asin\").isNotNull())\n",
    "    \n",
    "    # Save processed data\n",
    "    df_meta_clean.write.mode(\"overwrite\").parquet(f\"{intermediate_bucket}/meta_processed\")\n",
    "    print(f\"Processed {df_meta_clean.count():,} metadata records and saved to {intermediate_bucket}/meta_processed\")\n",
    "    \n",
    "    return df_meta_clean"
   ]
  },
  {
   "cell_type": "code",
   "execution_count": 37,
   "id": "27d072df-138d-48bb-965d-f745ead60631",
   "metadata": {
    "tags": []
   },
   "outputs": [
    {
     "name": "stdout",
     "output_type": "stream",
     "text": [
      "Intermediate bucket already exists: gs://msca-bdp-students-bucket/shared_data/apavlovic/final_project\n"
     ]
    }
   ],
   "source": [
    "create_intermediate_folder()"
   ]
  },
  {
   "cell_type": "code",
   "execution_count": 38,
   "id": "c2d67b0f-124b-4d2f-a0ad-bbc548a7fe81",
   "metadata": {
    "tags": []
   },
   "outputs": [
    {
     "name": "stderr",
     "output_type": "stream",
     "text": [
      "[Stage 81:=====================================================> (98 + 2) / 100]\r"
     ]
    },
    {
     "name": "stdout",
     "output_type": "stream",
     "text": [
      "Processed 64,679,785 review records and saved to gs://msca-bdp-students-bucket/shared_data/apavlovic/final_project/reviews_processed\n"
     ]
    },
    {
     "name": "stderr",
     "output_type": "stream",
     "text": [
      "                                                                                \r"
     ]
    }
   ],
   "source": [
    "reviews_processed = process_full_reviews_data()"
   ]
  },
  {
   "cell_type": "code",
   "execution_count": 39,
   "id": "1eba36c3-2f87-496b-9ce1-785fd135463f",
   "metadata": {
    "tags": []
   },
   "outputs": [
    {
     "name": "stderr",
     "output_type": "stream",
     "text": [
      "                                                                                \r"
     ]
    },
    {
     "name": "stdout",
     "output_type": "stream",
     "text": [
      "Processed 4,320,533 metadata records and saved to gs://msca-bdp-students-bucket/shared_data/apavlovic/final_project/meta_processed\n"
     ]
    },
    {
     "name": "stderr",
     "output_type": "stream",
     "text": [
      "                                                                                \r"
     ]
    }
   ],
   "source": [
    "meta_processed = process_full_meta_data()"
   ]
  }
 ],
 "metadata": {
  "environment": {
   "kernel": "9c39b79e5d2e7072beb4bd59-runtime-000091a417d9",
   "name": "workbench-notebooks.m129",
   "type": "gcloud",
   "uri": "us-docker.pkg.dev/deeplearning-platform-release/gcr.io/workbench-notebooks:m129"
  },
  "kernelspec": {
   "display_name": "bdp-student-template on Serverless Spark (Remote)",
   "language": "python",
   "name": "9c39b79e5d2e7072beb4bd59-runtime-000091a417d9"
  },
  "language_info": {
   "codemirror_mode": {
    "name": "ipython",
    "version": 3
   },
   "file_extension": ".py",
   "mimetype": "text/x-python",
   "name": "python",
   "nbconvert_exporter": "python",
   "pygments_lexer": "ipython3",
   "version": "3.12.3"
  }
 },
 "nbformat": 4,
 "nbformat_minor": 5
}
