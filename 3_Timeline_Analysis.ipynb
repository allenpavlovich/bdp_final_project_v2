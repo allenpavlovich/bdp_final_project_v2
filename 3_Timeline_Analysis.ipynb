{
 "cells": [
  {
   "cell_type": "markdown",
   "id": "df180e90-bfd4-4368-9016-5352c659c456",
   "metadata": {},
   "source": [
    "# Big Data and Cloud Computing - Final Project\n",
    "\n",
    "## Timeline Analysis\n",
    "\n",
    "### Author:\n",
    "Alen Pavlovic\n",
    "\n",
    "The University of Chicago"
   ]
  },
  {
   "cell_type": "code",
   "execution_count": 1,
   "id": "e87a0c2c-50bc-4ec8-9e28-84d0aef3cbb8",
   "metadata": {
    "tags": []
   },
   "outputs": [
    {
     "data": {
      "text/plain": [
       "-8"
      ]
     },
     "execution_count": 1,
     "metadata": {},
     "output_type": "execute_result"
    }
   ],
   "source": [
    "2*3-14"
   ]
  },
  {
   "cell_type": "code",
   "execution_count": 2,
   "id": "b13fc18f-e818-4590-8698-4d4c33fdea82",
   "metadata": {
    "tags": []
   },
   "outputs": [],
   "source": [
    "from pyspark.sql import SparkSession\n",
    "from pyspark.sql import functions as F\n",
    "from pyspark.sql.window import Window\n",
    "from pyspark.sql.types import *\n",
    "import pandas as pd\n",
    "import matplotlib.pyplot as plt\n",
    "import seaborn as sns\n",
    "import numpy as np\n",
    "from datetime import datetime, timedelta\n",
    "import warnings\n",
    "warnings.filterwarnings('ignore')"
   ]
  },
  {
   "cell_type": "code",
   "execution_count": 3,
   "id": "4ca28b34-9a10-439e-9eeb-573e87b708de",
   "metadata": {
    "tags": []
   },
   "outputs": [],
   "source": [
    "USE_DEV_DATA = True"
   ]
  },
  {
   "cell_type": "code",
   "execution_count": 4,
   "id": "c1be4b97-c34f-4282-a4f3-8e20948f87a0",
   "metadata": {
    "tags": []
   },
   "outputs": [],
   "source": [
    "try:\n",
    "    spark\n",
    "except NameError:\n",
    "    spark = SparkSession.builder \\\n",
    "        .appName(\"Timeline_Analysis\") \\\n",
    "        .config(\"spark.sql.adaptive.enabled\", \"true\") \\\n",
    "        .config(\"spark.sql.adaptive.coalescePartitions.enabled\", \"true\") \\\n",
    "        .getOrCreate()"
   ]
  },
  {
   "cell_type": "code",
   "execution_count": 5,
   "id": "75be4b4b-0555-4e8f-bc34-3bae78300318",
   "metadata": {
    "tags": []
   },
   "outputs": [
    {
     "name": "stdout",
     "output_type": "stream",
     "text": [
      "Loading DEV cleaned data from previous notebook...\n"
     ]
    }
   ],
   "source": [
    "print(f\"Loading {'DEV' if USE_DEV_DATA else 'PRODUCTION'} cleaned data from previous notebook...\")"
   ]
  },
  {
   "cell_type": "code",
   "execution_count": 6,
   "id": "342dfa7a-0984-4278-9ce2-8126667ae34a",
   "metadata": {
    "tags": []
   },
   "outputs": [
    {
     "name": "stdout",
     "output_type": "stream",
     "text": [
      "Using DEV data (smaller dataset for testing)\n"
     ]
    }
   ],
   "source": [
    "if USE_DEV_DATA:\n",
    "    reviews_path = \"gs://msca-bdp-students-bucket/shared_data/apavlovic/final_project/reviews_cleaned_eda_dev\"\n",
    "    meta_path = \"gs://msca-bdp-students-bucket/shared_data/apavlovic/final_project/meta_cleaned_eda_dev\"\n",
    "    print(\"Using DEV data (smaller dataset for testing)\")\n",
    "else:\n",
    "    reviews_path = \"gs://msca-bdp-students-bucket/shared_data/apavlovic/final_project/cleaned_reviews\"\n",
    "    meta_path = \"gs://msca-bdp-students-bucket/shared_data/apavlovic/final_project/cleaned_metadata\"\n",
    "    print(\"Using PRODUCTION data (full dataset)\")"
   ]
  },
  {
   "cell_type": "code",
   "execution_count": 7,
   "id": "c7079382-7921-4283-b552-92ba37a9c357",
   "metadata": {
    "tags": []
   },
   "outputs": [
    {
     "name": "stderr",
     "output_type": "stream",
     "text": [
      "                                                                                \r"
     ]
    },
    {
     "name": "stdout",
     "output_type": "stream",
     "text": [
      "Loaded 6,191,852 reviews\n"
     ]
    },
    {
     "name": "stderr",
     "output_type": "stream",
     "text": [
      "[Stage 5:====================================================>     (9 + 1) / 10]\r"
     ]
    },
    {
     "name": "stdout",
     "output_type": "stream",
     "text": [
      "Loaded 1,378,413 products\n"
     ]
    },
    {
     "name": "stderr",
     "output_type": "stream",
     "text": [
      "                                                                                \r"
     ]
    }
   ],
   "source": [
    "reviews_df = spark.read.parquet(reviews_path)\n",
    "meta_df = spark.read.parquet(meta_path)\n",
    "\n",
    "print(f\"Loaded {reviews_df.count():,} reviews\")\n",
    "print(f\"Loaded {meta_df.count():,} products\")"
   ]
  },
  {
   "cell_type": "code",
   "execution_count": 9,
   "id": "f6d151f8-7598-4b5c-aef7-19028f0f2525",
   "metadata": {
    "tags": []
   },
   "outputs": [],
   "source": [
    "def analyze_timeline_comprehensive(reviews_df):\n",
    "    \"\"\"Comprehensive timeline analysis including gaps, peaks, and patterns\"\"\"\n",
    "    print(\"=== COMPREHENSIVE TIMELINE ANALYSIS ===\")\n",
    "    \n",
    "    # Check if date columns already exist from data cleaning\n",
    "    existing_columns = reviews_df.columns\n",
    "    \n",
    "    # Only add date components if they don't already exist\n",
    "    if 'year' in existing_columns and 'month' in existing_columns:\n",
    "        print(\"Using existing date columns from data cleaning\")\n",
    "        reviews_with_dates = reviews_df\n",
    "    else:\n",
    "        print(\"Extracting date components\")\n",
    "        reviews_with_dates = reviews_df.select(\n",
    "            \"*\",\n",
    "            F.year(\"review_date\").alias(\"year\"),\n",
    "            F.month(\"review_date\").alias(\"month\"),\n",
    "            F.quarter(\"review_date\").alias(\"quarter\"),\n",
    "            F.dayofweek(\"review_date\").alias(\"dayofweek\")\n",
    "        )\n",
    "    \n",
    "    # Cache for performance\n",
    "    reviews_with_dates.cache()\n",
    "    \n",
    "    # Get date range\n",
    "    date_stats = reviews_with_dates.select(\n",
    "        F.min(\"review_date\").alias(\"min_date\"),\n",
    "        F.max(\"review_date\").alias(\"max_date\")\n",
    "    ).collect()[0]\n",
    "    \n",
    "    print(f\"\\nDate range: {date_stats['min_date']} to {date_stats['max_date']}\")\n",
    "    \n",
    "    # Yearly counts\n",
    "    yearly_counts = reviews_with_dates.groupBy(\"year\") \\\n",
    "        .agg(F.count(\"*\").alias(\"count\")) \\\n",
    "        .orderBy(\"year\")\n",
    "    \n",
    "    # Monthly counts\n",
    "    monthly_counts = reviews_with_dates.groupBy(\"year\", \"month\") \\\n",
    "        .agg(F.count(\"*\").alias(\"count\")) \\\n",
    "        .orderBy(\"year\", \"month\")\n",
    "    \n",
    "    # Daily counts for gap detection\n",
    "    daily_counts = reviews_with_dates.groupBy(F.col(\"review_date\").cast(\"date\").alias(\"date\")) \\\n",
    "        .agg(F.count(\"*\").alias(\"count\")) \\\n",
    "        .orderBy(\"date\")\n",
    "    \n",
    "    return reviews_with_dates, yearly_counts, monthly_counts, daily_counts"
   ]
  },
  {
   "cell_type": "code",
   "execution_count": 10,
   "id": "d821f04e-d098-45f2-a604-b063657a2640",
   "metadata": {
    "tags": []
   },
   "outputs": [
    {
     "name": "stdout",
     "output_type": "stream",
     "text": [
      "=== COMPREHENSIVE TIMELINE ANALYSIS ===\n",
      "Using existing date columns from data cleaning\n"
     ]
    },
    {
     "name": "stderr",
     "output_type": "stream",
     "text": [
      "[Stage 9:===========================================>             (10 + 3) / 13]\r"
     ]
    },
    {
     "name": "stdout",
     "output_type": "stream",
     "text": [
      "\n",
      "Date range: 1998-04-22 to 2023-09-13\n"
     ]
    },
    {
     "name": "stderr",
     "output_type": "stream",
     "text": [
      "                                                                                \r"
     ]
    }
   ],
   "source": [
    "reviews_with_dates, yearly_counts, monthly_counts, daily_counts = analyze_timeline_comprehensive(reviews_df)"
   ]
  },
  {
   "cell_type": "code",
   "execution_count": 12,
   "id": "0d8aefb2-c693-46ab-bd3e-a70f5e6d2cec",
   "metadata": {
    "tags": []
   },
   "outputs": [],
   "source": [
    "def identify_data_gaps(daily_counts):\n",
    "    \"\"\"Identify periods with missing or low data\"\"\"\n",
    "    print(\"\\n=== DATA COLLECTION GAP ANALYSIS ===\")\n",
    "    \n",
    "    # Convert to pandas for easier gap detection\n",
    "    daily_pd = daily_counts.toPandas()\n",
    "    daily_pd['date'] = pd.to_datetime(daily_pd['date'])\n",
    "    daily_pd = daily_pd.sort_values('date')\n",
    "    \n",
    "    # Create complete date range\n",
    "    date_range = pd.date_range(start=daily_pd['date'].min(), \n",
    "                              end=daily_pd['date'].max(), \n",
    "                              freq='D')\n",
    "    \n",
    "    # Find missing dates\n",
    "    all_dates = set(date_range)\n",
    "    existing_dates = set(daily_pd['date'])\n",
    "    missing_dates = all_dates - existing_dates\n",
    "    \n",
    "    print(f\"\\nTotal days in range: {len(all_dates)}\")\n",
    "    print(f\"Days with data: {len(existing_dates)}\")\n",
    "    print(f\"Missing days: {len(missing_dates)}\")\n",
    "    \n",
    "    # Find periods with very low activity (< 100 reviews)\n",
    "    low_activity = daily_pd[daily_pd['count'] < 100]\n",
    "    print(f\"\\nDays with < 100 reviews: {len(low_activity)}\")\n",
    "    \n",
    "    # Identify gap periods (consecutive missing or low-activity days)\n",
    "    if len(missing_dates) > 0:\n",
    "        missing_sorted = sorted(list(missing_dates))\n",
    "        gaps = []\n",
    "        start = missing_sorted[0]\n",
    "        end = missing_sorted[0]\n",
    "        \n",
    "        for i in range(1, len(missing_sorted)):\n",
    "            if missing_sorted[i] - missing_sorted[i-1] == timedelta(days=1):\n",
    "                end = missing_sorted[i]\n",
    "            else:\n",
    "                if (end - start).days >= 7:  # Only report gaps >= 7 days\n",
    "                    gaps.append((start, end, (end - start).days + 1))\n",
    "                start = missing_sorted[i]\n",
    "                end = missing_sorted[i]\n",
    "        \n",
    "        print(f\"\\nSignificant data gaps (>= 7 days):\")\n",
    "        for start, end, duration in gaps[:10]:  # Show top 10 gaps\n",
    "            print(f\"  {start.strftime('%Y-%m-%d')} to {end.strftime('%Y-%m-%d')} ({duration} days)\")\n",
    "    \n",
    "    return daily_pd"
   ]
  },
  {
   "cell_type": "code",
   "execution_count": 13,
   "id": "76e7f275-85a7-414d-9f10-177cb2e50dc7",
   "metadata": {
    "tags": []
   },
   "outputs": [
    {
     "name": "stdout",
     "output_type": "stream",
     "text": [
      "\n",
      "=== DATA COLLECTION GAP ANALYSIS ===\n"
     ]
    },
    {
     "name": "stderr",
     "output_type": "stream",
     "text": [
      "                                                                                \r"
     ]
    },
    {
     "name": "stdout",
     "output_type": "stream",
     "text": [
      "\n",
      "Total days in range: 9276\n",
      "Days with data: 6957\n",
      "Missing days: 2319\n",
      "\n",
      "Days with < 100 reviews: 2765\n",
      "\n",
      "Significant data gaps (>= 7 days):\n",
      "  1998-04-23 to 1998-09-20 (151 days)\n",
      "  1998-09-22 to 1999-08-16 (329 days)\n",
      "  1999-08-18 to 2000-01-28 (164 days)\n",
      "  2000-01-30 to 2000-03-01 (32 days)\n",
      "  2000-03-03 to 2000-03-17 (15 days)\n",
      "  2000-03-19 to 2000-03-31 (13 days)\n",
      "  2000-04-02 to 2000-04-23 (22 days)\n",
      "  2000-05-03 to 2000-05-20 (18 days)\n",
      "  2000-05-22 to 2000-06-22 (32 days)\n",
      "  2000-06-25 to 2000-07-09 (15 days)\n"
     ]
    }
   ],
   "source": [
    "daily_pd = identify_data_gaps(daily_counts)"
   ]
  },
  {
   "cell_type": "code",
   "execution_count": 14,
   "id": "608ea26b-08eb-4c27-a79e-c116604227f0",
   "metadata": {
    "tags": []
   },
   "outputs": [],
   "source": [
    "def detect_timeline_outliers(yearly_counts, monthly_counts):\n",
    "    \"\"\"Detect statistical outliers in timeline using IQR method\"\"\"\n",
    "    print(\"\\n=== OUTLIER DETECTION ===\")\n",
    "    \n",
    "    # Yearly outliers\n",
    "    yearly_pd = yearly_counts.toPandas()\n",
    "    \n",
    "    Q1 = yearly_pd['count'].quantile(0.25)\n",
    "    Q3 = yearly_pd['count'].quantile(0.75)\n",
    "    IQR = Q3 - Q1\n",
    "    \n",
    "    yearly_pd['is_outlier'] = (yearly_pd['count'] > Q3 + 1.5 * IQR) | (yearly_pd['count'] < Q1 - 1.5 * IQR)\n",
    "    yearly_outliers = yearly_pd[yearly_pd['is_outlier']]\n",
    "    \n",
    "    print(f\"\\nYearly outliers (IQR method):\")\n",
    "    for _, row in yearly_outliers.iterrows():\n",
    "        print(f\"  {int(row['year'])}: {row['count']:,} reviews\")\n",
    "    \n",
    "    # Monthly outliers (for spike detection)\n",
    "    monthly_pd = monthly_counts.toPandas()\n",
    "    monthly_pd['date'] = pd.to_datetime(monthly_pd[['year', 'month']].assign(day=1))\n",
    "    \n",
    "    # Calculate rolling statistics\n",
    "    monthly_pd = monthly_pd.sort_values('date')\n",
    "    monthly_pd['rolling_mean'] = monthly_pd['count'].rolling(window=12, center=True).mean()\n",
    "    monthly_pd['rolling_std'] = monthly_pd['count'].rolling(window=12, center=True).std()\n",
    "    \n",
    "    # Identify spikes (> 2 std deviations from rolling mean)\n",
    "    monthly_pd['is_spike'] = (monthly_pd['count'] > monthly_pd['rolling_mean'] + 2 * monthly_pd['rolling_std'])\n",
    "    spikes = monthly_pd[monthly_pd['is_spike']]\n",
    "    \n",
    "    print(f\"\\nMonthly spikes detected: {len(spikes)}\")\n",
    "    print(\"Top 10 spikes:\")\n",
    "    for _, row in spikes.nlargest(10, 'count').iterrows():\n",
    "        print(f\"  {row['date'].strftime('%Y-%m')}: {row['count']:,} reviews\")\n",
    "    \n",
    "    return yearly_pd, monthly_pd"
   ]
  },
  {
   "cell_type": "code",
   "execution_count": 15,
   "id": "d9946367-be35-49dd-8032-5ef5ba043ce7",
   "metadata": {
    "tags": []
   },
   "outputs": [
    {
     "name": "stdout",
     "output_type": "stream",
     "text": [
      "\n",
      "=== OUTLIER DETECTION ===\n"
     ]
    },
    {
     "name": "stderr",
     "output_type": "stream",
     "text": [
      "                                                                                \r"
     ]
    },
    {
     "name": "stdout",
     "output_type": "stream",
     "text": [
      "\n",
      "Yearly outliers (IQR method):\n"
     ]
    },
    {
     "name": "stderr",
     "output_type": "stream",
     "text": [
      "                                                                                \r"
     ]
    },
    {
     "name": "stdout",
     "output_type": "stream",
     "text": [
      "\n",
      "Monthly spikes detected: 2\n",
      "Top 10 spikes:\n",
      "  2007-01: 257 reviews\n",
      "  2003-06: 12 reviews\n"
     ]
    }
   ],
   "source": [
    "yearly_pd, monthly_pd = detect_timeline_outliers(yearly_counts, monthly_counts)"
   ]
  },
  {
   "cell_type": "code",
   "execution_count": 16,
   "id": "2d1ed615-5a34-4669-8326-e6a92b0832a0",
   "metadata": {
    "tags": []
   },
   "outputs": [],
   "source": [
    "def analyze_spike_events(monthly_pd):\n",
    "    \"\"\"Analyze spikes and correlate with known events\"\"\"\n",
    "    print(\"\\n=== SPIKE EVENT ANALYSIS ===\")\n",
    "    \n",
    "    # Known events that might cause spikes\n",
    "    events = {\n",
    "        '2020-03': 'COVID-19 pandemic begins',\n",
    "        '2020-11': 'Black Friday/Cyber Monday 2020',\n",
    "        '2021-11': 'Black Friday/Cyber Monday 2021',\n",
    "        '2022-07': 'Amazon Prime Day 2022',\n",
    "        '2022-11': 'Black Friday/Cyber Monday 2022',\n",
    "        '2023-07': 'Amazon Prime Day 2023',\n",
    "        '2023-11': 'Black Friday/Cyber Monday 2023'\n",
    "    }\n",
    "    \n",
    "    # Holiday months (typically see increased activity)\n",
    "    holiday_months = [11, 12]  # November (Black Friday) and December\n",
    "    \n",
    "    # Analyze spikes\n",
    "    spikes = monthly_pd[monthly_pd['is_spike']].copy()\n",
    "    spikes['event'] = spikes['date'].dt.strftime('%Y-%m').map(events)\n",
    "    spikes['is_holiday'] = spikes['month'].isin(holiday_months)\n",
    "    \n",
    "    print(\"\\nSpikes correlated with known events:\")\n",
    "    event_spikes = spikes[spikes['event'].notna()]\n",
    "    for _, row in event_spikes.iterrows():\n",
    "        print(f\"  {row['date'].strftime('%Y-%m')}: {row['count']:,} reviews - {row['event']}\")\n",
    "    \n",
    "    print(f\"\\nSpikes during holiday season: {spikes['is_holiday'].sum()}\")\n",
    "    print(f\"Spikes during non-holiday season: {(~spikes['is_holiday']).sum()}\")\n",
    "    \n",
    "    return spikes"
   ]
  },
  {
   "cell_type": "code",
   "execution_count": 17,
   "id": "2d7c49b6-769d-4003-a0a1-f8085fdf64fd",
   "metadata": {
    "tags": []
   },
   "outputs": [
    {
     "name": "stdout",
     "output_type": "stream",
     "text": [
      "\n",
      "=== SPIKE EVENT ANALYSIS ===\n",
      "\n",
      "Spikes correlated with known events:\n",
      "\n",
      "Spikes during holiday season: 0\n",
      "Spikes during non-holiday season: 2\n"
     ]
    }
   ],
   "source": [
    "spikes = analyze_spike_events(monthly_pd)"
   ]
  },
  {
   "cell_type": "code",
   "execution_count": 18,
   "id": "22e6a207-20fb-4097-a5a4-dddbf2e513ce",
   "metadata": {
    "tags": []
   },
   "outputs": [],
   "source": [
    "def compare_pre_post_2022(reviews_with_dates):\n",
    "    \"\"\"Compare review patterns pre-2022 vs 2022-2023 for AI detection\"\"\"\n",
    "    print(\"\\n=== PRE-2022 vs 2022-2023 COMPARISON ===\")\n",
    "    \n",
    "    # Split data\n",
    "    pre_2022 = reviews_with_dates.filter(F.col(\"year\") < 2022)\n",
    "    post_2022 = reviews_with_dates.filter(F.col(\"year\") >= 2022)\n",
    "    \n",
    "    # Basic statistics\n",
    "    pre_count = pre_2022.count()\n",
    "    post_count = post_2022.count()\n",
    "    \n",
    "    print(f\"\\nReview counts:\")\n",
    "    print(f\"  Pre-2022: {pre_count:,}\")\n",
    "    print(f\"  2022-2023: {post_count:,}\")\n",
    "    print(f\"  Ratio: {post_count/pre_count:.2%} of pre-2022 volume\")\n",
    "    \n",
    "    # Average reviews per day\n",
    "    pre_days = pre_2022.select(F.col(\"review_date\").cast(\"date\")).distinct().count()\n",
    "    post_days = post_2022.select(F.col(\"review_date\").cast(\"date\")).distinct().count()\n",
    "    \n",
    "    print(f\"\\nAverage reviews per day:\")\n",
    "    print(f\"  Pre-2022: {pre_count/pre_days:,.0f}\")\n",
    "    print(f\"  2022-2023: {post_count/post_days:,.0f}\")\n",
    "    \n",
    "    # Text characteristics comparison\n",
    "    print(\"\\nText characteristics:\")\n",
    "    \n",
    "    # Average review length\n",
    "    pre_avg_length = pre_2022.select(F.avg(F.length(\"text\")).alias(\"avg_length\")).collect()[0]['avg_length']\n",
    "    post_avg_length = post_2022.select(F.avg(F.length(\"text\")).alias(\"avg_length\")).collect()[0]['avg_length']\n",
    "    \n",
    "    print(f\"  Average review length:\")\n",
    "    print(f\"    Pre-2022: {pre_avg_length:.0f} characters\")\n",
    "    print(f\"    2022-2023: {post_avg_length:.0f} characters\")\n",
    "    \n",
    "    # Rating distribution\n",
    "    print(\"\\nRating distribution:\")\n",
    "    pre_ratings = pre_2022.groupBy(\"rating\").count().orderBy(\"rating\").toPandas()\n",
    "    post_ratings = post_2022.groupBy(\"rating\").count().orderBy(\"rating\").toPandas()\n",
    "    \n",
    "    pre_ratings['pct'] = pre_ratings['count'] / pre_ratings['count'].sum() * 100\n",
    "    post_ratings['pct'] = post_ratings['count'] / post_ratings['count'].sum() * 100\n",
    "    \n",
    "    for rating in [1, 2, 3, 4, 5]:\n",
    "        pre_pct = pre_ratings[pre_ratings['rating'] == rating]['pct'].values[0] if len(pre_ratings[pre_ratings['rating'] == rating]) > 0 else 0\n",
    "        post_pct = post_ratings[post_ratings['rating'] == rating]['pct'].values[0] if len(post_ratings[post_ratings['rating'] == rating]) > 0 else 0\n",
    "        print(f\"  {rating}-star: Pre-2022: {pre_pct:.1f}%, 2022-2023: {post_pct:.1f}%\")\n",
    "    \n",
    "    # High-volume reviewer activity\n",
    "    print(\"\\nHigh-volume reviewer activity:\")\n",
    "    pre_high_volume = pre_2022.filter(F.col(\"high_volume_user\") == True).count()\n",
    "    post_high_volume = post_2022.filter(F.col(\"high_volume_user\") == True).count()\n",
    "    \n",
    "    print(f\"  Pre-2022: {pre_high_volume:,} reviews ({pre_high_volume/pre_count:.2%})\")\n",
    "    print(f\"  2022-2023: {post_high_volume:,} reviews ({post_high_volume/post_count:.2%})\")\n",
    "    \n",
    "    return pre_2022, post_2022"
   ]
  },
  {
   "cell_type": "code",
   "execution_count": 19,
   "id": "120111c1-7051-4aec-afe7-3876473b3973",
   "metadata": {
    "tags": []
   },
   "outputs": [
    {
     "name": "stdout",
     "output_type": "stream",
     "text": [
      "\n",
      "=== PRE-2022 vs 2022-2023 COMPARISON ===\n",
      "\n",
      "Review counts:\n",
      "  Pre-2022: 4,972,026\n",
      "  2022-2023: 1,219,826\n",
      "  Ratio: 24.53% of pre-2022 volume\n",
      "\n",
      "Average reviews per day:\n",
      "  Pre-2022: 785\n",
      "  2022-2023: 1,964\n",
      "\n",
      "Text characteristics:\n"
     ]
    },
    {
     "name": "stderr",
     "output_type": "stream",
     "text": [
      "                                                                                \r"
     ]
    },
    {
     "name": "stdout",
     "output_type": "stream",
     "text": [
      "  Average review length:\n",
      "    Pre-2022: 177 characters\n",
      "    2022-2023: 184 characters\n",
      "\n",
      "Rating distribution:\n"
     ]
    },
    {
     "name": "stderr",
     "output_type": "stream",
     "text": [
      "                                                                                \r"
     ]
    },
    {
     "name": "stdout",
     "output_type": "stream",
     "text": [
      "  1-star: Pre-2022: 11.9%, 2022-2023: 15.7%\n",
      "  2-star: Pre-2022: 5.2%, 2022-2023: 6.0%\n",
      "  3-star: Pre-2022: 6.9%, 2022-2023: 7.5%\n",
      "  4-star: Pre-2022: 11.6%, 2022-2023: 9.9%\n",
      "  5-star: Pre-2022: 64.4%, 2022-2023: 60.8%\n",
      "\n",
      "High-volume reviewer activity:\n"
     ]
    },
    {
     "name": "stderr",
     "output_type": "stream",
     "text": [
      "                                                                                \r"
     ]
    },
    {
     "name": "stdout",
     "output_type": "stream",
     "text": [
      "  Pre-2022: 190,190 reviews (3.83%)\n",
      "  2022-2023: 74,178 reviews (6.08%)\n"
     ]
    }
   ],
   "source": [
    "pre_2022, post_2022 = compare_pre_post_2022(reviews_with_dates)"
   ]
  },
  {
   "cell_type": "code",
   "execution_count": 20,
   "id": "e04564f6-813b-43ca-8c3b-71244b967516",
   "metadata": {
    "tags": []
   },
   "outputs": [],
   "source": [
    "def analyze_top_products_timeline(reviews_with_dates, meta_df):\n",
    "    \"\"\"Analyze timeline trends for top 10 most-reviewed products\"\"\"\n",
    "    print(\"\\n=== TOP 10 PRODUCTS TIMELINE ANALYSIS ===\")\n",
    "    \n",
    "    # Get top 10 products by review count\n",
    "    top_products = reviews_with_dates.groupBy(\"parent_asin\") \\\n",
    "        .agg(F.count(\"*\").alias(\"total_reviews\")) \\\n",
    "        .orderBy(F.col(\"total_reviews\").desc()) \\\n",
    "        .limit(10)\n",
    "    \n",
    "    # Join with metadata to get product titles\n",
    "    top_products_with_info = top_products.join(\n",
    "        meta_df.select(\"parent_asin\", \"title\", \"main_category\").distinct(),\n",
    "        on=\"parent_asin\",\n",
    "        how=\"left\"\n",
    "    ).collect()\n",
    "    \n",
    "    print(\"\\nTop 10 Most-Reviewed Products:\")\n",
    "    for i, row in enumerate(top_products_with_info, 1):\n",
    "        title = row['title'][:50] + \"...\" if row['title'] and len(row['title']) > 50 else row['title']\n",
    "        print(f\"{i}. {title or 'No title'} - {row['total_reviews']:,} reviews\")\n",
    "    \n",
    "    # Analyze timeline for each top product\n",
    "    print(\"\\nTimeline trends for top products:\")\n",
    "    \n",
    "    # Get yearly trends for top 5 products (to keep it manageable)\n",
    "    top_5_asins = [row['parent_asin'] for row in top_products_with_info[:5]]\n",
    "    \n",
    "    for asin in top_5_asins:\n",
    "        product_timeline = reviews_with_dates.filter(F.col(\"parent_asin\") == asin) \\\n",
    "            .groupBy(\"year\") \\\n",
    "            .agg(F.count(\"*\").alias(\"count\")) \\\n",
    "            .orderBy(\"year\") \\\n",
    "            .collect()\n",
    "        \n",
    "        # Find peak year\n",
    "        peak_year = max(product_timeline, key=lambda x: x['count'])\n",
    "        print(f\"\\n  ASIN {asin}: Peak year {peak_year['year']} with {peak_year['count']:,} reviews\")\n",
    "    \n",
    "    return top_products_with_info"
   ]
  },
  {
   "cell_type": "code",
   "execution_count": 21,
   "id": "b48fbf05-8171-4678-8dab-4d58f1705499",
   "metadata": {
    "tags": []
   },
   "outputs": [
    {
     "name": "stdout",
     "output_type": "stream",
     "text": [
      "\n",
      "=== TOP 10 PRODUCTS TIMELINE ANALYSIS ===\n"
     ]
    },
    {
     "name": "stderr",
     "output_type": "stream",
     "text": [
      "                                                                                \r"
     ]
    },
    {
     "name": "stdout",
     "output_type": "stream",
     "text": [
      "\n",
      "Top 10 Most-Reviewed Products:\n",
      "1. amFilm Screen Protector 4.7“ for Apple iPhone 8, i... - 4,127 reviews\n",
      "2. REVLON One-Step Volumizer Original 1.0 Hair Dryer ... - 3,512 reviews\n",
      "3. essence | Lash Princess False Lash Effect Mascara ... - 3,357 reviews\n",
      "4. Yootech Wireless Charger,10W Max Fast Wireless Cha... - 2,848 reviews\n",
      "5. HSI Professional Glider Ceramic Flat Iron Hair Str... - 2,644 reviews\n",
      "6. ThisWorx Car Vacuum Cleaner - Car Accessories - Sm... - 2,538 reviews\n",
      "7. Beam Electronics Car Phone Holder Mount, Phone Car... - 2,461 reviews\n",
      "8. JOTO Universal Waterproof Phone Pouch Cellphone Dr... - 2,441 reviews\n",
      "9. Dr. Squatch All Natural Bar Soap for Men, 5 Bar Va... - 2,406 reviews\n",
      "10. Ailun Glass Screen Protector Compatible for iPhone... - 2,312 reviews\n",
      "\n",
      "Timeline trends for top products:\n",
      "\n",
      "  ASIN B01415QHYW: Peak year 2017 with 1,231 reviews\n",
      "\n",
      "  ASIN B01LSUQSB0: Peak year 2020 with 1,198 reviews\n",
      "\n",
      "  ASIN B0BVGHXZJ1: Peak year 2021 with 1,160 reviews\n",
      "\n",
      "  ASIN B07P9S6R9Y: Peak year 2019 with 1,265 reviews\n",
      "\n",
      "  ASIN B001MA0QY2: Peak year 2014 with 407 reviews\n"
     ]
    }
   ],
   "source": [
    "top_products_info = analyze_top_products_timeline(reviews_with_dates, meta_df)"
   ]
  },
  {
   "cell_type": "code",
   "execution_count": 22,
   "id": "9d786680-785d-421b-bd1e-7702e2535ed6",
   "metadata": {
    "tags": []
   },
   "outputs": [],
   "source": [
    "def analyze_category_seasonal_patterns(reviews_with_dates, meta_df):\n",
    "    \"\"\"Analyze seasonal patterns and holiday spikes by category\"\"\"\n",
    "    print(\"\\n=== CATEGORY-SPECIFIC SEASONAL ANALYSIS ===\")\n",
    "    \n",
    "    # Join reviews with category information\n",
    "    reviews_with_categories = reviews_with_dates.join(\n",
    "        meta_df.select(\"parent_asin\", \"main_category\").distinct(),\n",
    "        on=\"parent_asin\",\n",
    "        how=\"inner\"\n",
    "    )\n",
    "    \n",
    "    # Get monthly counts by category\n",
    "    category_monthly = reviews_with_categories.groupBy(\"main_category\", \"month\") \\\n",
    "        .agg(F.count(\"*\").alias(\"count\")) \\\n",
    "        .orderBy(\"main_category\", \"month\")\n",
    "    \n",
    "    # Identify top categories by volume\n",
    "    top_categories = reviews_with_categories.groupBy(\"main_category\") \\\n",
    "        .agg(F.count(\"*\").alias(\"total\")) \\\n",
    "        .orderBy(F.col(\"total\").desc()) \\\n",
    "        .limit(5) \\\n",
    "        .collect()\n",
    "    \n",
    "    print(\"\\nTop 5 Categories by Review Volume:\")\n",
    "    for i, cat in enumerate(top_categories, 1):\n",
    "        print(f\"{i}. {cat['main_category']}: {cat['total']:,} reviews\")\n",
    "    \n",
    "    # Analyze holiday patterns (November-December) for each top category\n",
    "    print(\"\\nHoliday Season Spikes by Category (Nov-Dec vs. average):\")\n",
    "    \n",
    "    for cat_row in top_categories:\n",
    "        category = cat_row['main_category']\n",
    "        \n",
    "        # Get monthly averages for this category\n",
    "        cat_monthly = category_monthly.filter(F.col(\"main_category\") == category).toPandas()\n",
    "        \n",
    "        if len(cat_monthly) > 0:\n",
    "            # Calculate average monthly volume\n",
    "            avg_monthly = cat_monthly['count'].mean()\n",
    "            \n",
    "            # Get November and December volumes\n",
    "            nov_vol = cat_monthly[cat_monthly['month'] == 11]['count'].sum()\n",
    "            dec_vol = cat_monthly[cat_monthly['month'] == 12]['count'].sum()\n",
    "            \n",
    "            # Calculate spike percentages\n",
    "            nov_spike = ((nov_vol / avg_monthly) - 1) * 100 if avg_monthly > 0 else 0\n",
    "            dec_spike = ((dec_vol / avg_monthly) - 1) * 100 if avg_monthly > 0 else 0\n",
    "            \n",
    "            print(f\"\\n  {category}:\")\n",
    "            print(f\"    November: {nov_spike:+.1f}% vs average\")\n",
    "            print(f\"    December: {dec_spike:+.1f}% vs average\")\n",
    "    \n",
    "    # Identify categories with strongest seasonal patterns\n",
    "    print(\"\\nCategories with Strongest Holiday Effects:\")\n",
    "    \n",
    "    # Calculate holiday effect for all categories\n",
    "    holiday_effects = []\n",
    "    for cat in category_monthly.select(\"main_category\").distinct().collect():\n",
    "        category = cat['main_category']\n",
    "        cat_data = category_monthly.filter(F.col(\"main_category\") == category).toPandas()\n",
    "        \n",
    "        if len(cat_data) >= 12:  # Only analyze if we have full year data\n",
    "            avg_monthly = cat_data['count'].mean()\n",
    "            holiday_avg = cat_data[cat_data['month'].isin([11, 12])]['count'].mean()\n",
    "            effect = ((holiday_avg / avg_monthly) - 1) * 100 if avg_monthly > 0 else 0\n",
    "            holiday_effects.append((category, effect))\n",
    "    \n",
    "    # Sort by effect size and show top 5\n",
    "    holiday_effects.sort(key=lambda x: x[1], reverse=True)\n",
    "    for category, effect in holiday_effects[:5]:\n",
    "        print(f\"  {category}: {effect:+.1f}% increase during holidays\")\n",
    "    \n",
    "    return category_monthly"
   ]
  },
  {
   "cell_type": "code",
   "execution_count": 23,
   "id": "9ce46348-fe54-4b07-86a0-dbdc082ae793",
   "metadata": {
    "tags": []
   },
   "outputs": [
    {
     "name": "stdout",
     "output_type": "stream",
     "text": [
      "\n",
      "=== CATEGORY-SPECIFIC SEASONAL ANALYSIS ===\n"
     ]
    },
    {
     "name": "stderr",
     "output_type": "stream",
     "text": [
      "                                                                                \r"
     ]
    },
    {
     "name": "stdout",
     "output_type": "stream",
     "text": [
      "\n",
      "Top 5 Categories by Review Volume:\n",
      "1. All Beauty: 1,781,597 reviews\n",
      "2. Cell Phones & Accessories: 1,669,314 reviews\n",
      "3. Automotive: 1,614,384 reviews\n",
      "4. Health & Personal Care: 199,361 reviews\n",
      "5. All Electronics: 168,038 reviews\n",
      "\n",
      "Holiday Season Spikes by Category (Nov-Dec vs. average):\n"
     ]
    },
    {
     "name": "stderr",
     "output_type": "stream",
     "text": [
      "                                                                                \r"
     ]
    },
    {
     "name": "stdout",
     "output_type": "stream",
     "text": [
      "\n",
      "  All Beauty:\n",
      "    November: -15.9% vs average\n",
      "    December: +3.2% vs average\n"
     ]
    },
    {
     "name": "stderr",
     "output_type": "stream",
     "text": [
      "                                                                                \r"
     ]
    },
    {
     "name": "stdout",
     "output_type": "stream",
     "text": [
      "\n",
      "  Cell Phones & Accessories:\n",
      "    November: -8.1% vs average\n",
      "    December: +13.7% vs average\n"
     ]
    },
    {
     "name": "stderr",
     "output_type": "stream",
     "text": [
      "                                                                                \r"
     ]
    },
    {
     "name": "stdout",
     "output_type": "stream",
     "text": [
      "\n",
      "  Automotive:\n",
      "    November: -12.2% vs average\n",
      "    December: -1.0% vs average\n"
     ]
    },
    {
     "name": "stderr",
     "output_type": "stream",
     "text": [
      "                                                                                \r"
     ]
    },
    {
     "name": "stdout",
     "output_type": "stream",
     "text": [
      "\n",
      "  Health & Personal Care:\n",
      "    November: -14.1% vs average\n",
      "    December: +3.0% vs average\n"
     ]
    },
    {
     "name": "stderr",
     "output_type": "stream",
     "text": [
      "                                                                                \r"
     ]
    },
    {
     "name": "stdout",
     "output_type": "stream",
     "text": [
      "\n",
      "  All Electronics:\n",
      "    November: -5.4% vs average\n",
      "    December: +12.6% vs average\n",
      "\n",
      "Categories with Strongest Holiday Effects:\n"
     ]
    },
    {
     "name": "stderr",
     "output_type": "stream",
     "text": [
      "                                                                                \r"
     ]
    },
    {
     "name": "stdout",
     "output_type": "stream",
     "text": [
      "  Software: +71.4% increase during holidays\n",
      "  Apple Products: +50.0% increase during holidays\n",
      "  Movies & TV: +26.8% increase during holidays\n",
      "  Handmade: +19.2% increase during holidays\n",
      "  Toys & Games: +18.3% increase during holidays\n"
     ]
    }
   ],
   "source": [
    "category_monthly_data = analyze_category_seasonal_patterns(reviews_with_dates, meta_df)"
   ]
  },
  {
   "cell_type": "code",
   "execution_count": 24,
   "id": "e83ed41c-2504-4fb4-b154-8debfd8a692c",
   "metadata": {
    "tags": []
   },
   "outputs": [],
   "source": [
    "def create_timeline_visualizations(yearly_pd, monthly_pd, spikes):\n",
    "    \"\"\"Create comprehensive timeline visualizations\"\"\"\n",
    "    print(\"\\n=== CREATING TIMELINE VISUALIZATIONS ===\")\n",
    "    \n",
    "    fig, axes = plt.subplots(3, 1, figsize=(15, 12))\n",
    "    \n",
    "    # 1. Yearly timeline with outliers highlighted\n",
    "    ax1 = axes[0]\n",
    "    bars = ax1.bar(yearly_pd['year'], yearly_pd['count'], \n",
    "                   color=['red' if x else 'steelblue' for x in yearly_pd['is_outlier']], \n",
    "                   alpha=0.8)\n",
    "    \n",
    "    # Annotate outliers\n",
    "    for _, row in yearly_pd[yearly_pd['is_outlier']].iterrows():\n",
    "        ax1.annotate(f\"{row['count']:,.0f}\", \n",
    "                    xy=(row['year'], row['count']),\n",
    "                    xytext=(0, 10), textcoords='offset points', \n",
    "                    ha='center', fontsize=8)\n",
    "    \n",
    "    ax1.set_title('Yearly Review Count with Outliers Highlighted', fontsize=14)\n",
    "    ax1.set_xlabel('Year')\n",
    "    ax1.set_ylabel('Number of Reviews')\n",
    "    ax1.grid(axis='y', alpha=0.3)\n",
    "    \n",
    "    # 2. Monthly timeline with spikes\n",
    "    ax2 = axes[1]\n",
    "    ax2.plot(monthly_pd['date'], monthly_pd['count'], 'b-', alpha=0.6, linewidth=1)\n",
    "    ax2.scatter(spikes['date'], spikes['count'], color='red', s=50, zorder=5)\n",
    "    \n",
    "    # Annotate event spikes\n",
    "    event_spikes = spikes[spikes['event'].notna()]\n",
    "    for _, row in event_spikes.iterrows():\n",
    "        ax2.annotate(row['event'], \n",
    "                    xy=(row['date'], row['count']),\n",
    "                    xytext=(10, 10), textcoords='offset points',\n",
    "                    ha='left', fontsize=8, \n",
    "                    bbox=dict(boxstyle='round,pad=0.3', facecolor='yellow', alpha=0.7))\n",
    "    \n",
    "    ax2.set_title('Monthly Review Count with Spikes and Events', fontsize=14)\n",
    "    ax2.set_xlabel('Date')\n",
    "    ax2.set_ylabel('Number of Reviews')\n",
    "    ax2.grid(True, alpha=0.3)\n",
    "    \n",
    "    # 3. Pre-2022 vs 2022-2023 comparison\n",
    "    ax3 = axes[2]\n",
    "    \n",
    "    # Group by year and calculate monthly averages\n",
    "    pre_2022_monthly = monthly_pd[monthly_pd['year'] < 2022].groupby('month')['count'].mean()\n",
    "    post_2022_monthly = monthly_pd[monthly_pd['year'] >= 2022].groupby('month')['count'].mean()\n",
    "    \n",
    "    months = range(1, 13)\n",
    "    x = np.arange(len(months))\n",
    "    width = 0.35\n",
    "    \n",
    "    ax3.bar(x - width/2, pre_2022_monthly, width, label='Pre-2022 Average', alpha=0.8)\n",
    "    ax3.bar(x + width/2, post_2022_monthly, width, label='2022-2023 Average', alpha=0.8)\n",
    "    \n",
    "    ax3.set_title('Monthly Pattern Comparison: Pre-2022 vs 2022-2023', fontsize=14)\n",
    "    ax3.set_xlabel('Month')\n",
    "    ax3.set_ylabel('Average Number of Reviews')\n",
    "    ax3.set_xticks(x)\n",
    "    ax3.set_xticklabels(['Jan', 'Feb', 'Mar', 'Apr', 'May', 'Jun', \n",
    "                        'Jul', 'Aug', 'Sep', 'Oct', 'Nov', 'Dec'])\n",
    "    ax3.legend()\n",
    "    ax3.grid(axis='y', alpha=0.3)\n",
    "    \n",
    "    plt.tight_layout()\n",
    "    plt.savefig('timeline_analysis_comprehensive.png', dpi=300, bbox_inches='tight')\n",
    "    plt.show()"
   ]
  },
  {
   "cell_type": "code",
   "execution_count": 25,
   "id": "83f2ada1-35c4-4308-a3f2-6ee08bbcab01",
   "metadata": {
    "tags": []
   },
   "outputs": [
    {
     "name": "stdout",
     "output_type": "stream",
     "text": [
      "\n",
      "=== CREATING TIMELINE VISUALIZATIONS ===\n"
     ]
    },
    {
     "data": {
      "image/png": "[encoded data removed]",
      "text/plain": [
       "<Figure size 1500x1200 with 3 Axes>"
      ]
     },
     "metadata": {},
     "output_type": "display_data"
    }
   ],
   "source": [
    "create_timeline_visualizations(yearly_pd, monthly_pd, spikes)"
   ]
  },
  {
   "cell_type": "code",
   "execution_count": null,
   "id": "724795b2-f2d7-497e-b934-d8f4224f751f",
   "metadata": {
    "tags": []
   },
   "outputs": [],
   "source": [
    "print(\"\\n=== TIMELINE ANALYSIS SUMMARY ===\")\n",
    "print(\"\\nKey Findings:\")\n",
    "print(\"1. PEAKS AND VALLEYS:\")\n",
    "print(f\"   - Significant growth from {yearly_pd['year'].min()} to {yearly_pd['year'].max()}\")\n",
    "print(f\"   - Major outlier years: {', '.join(map(str, yearly_pd[yearly_pd['is_outlier']]['year'].tolist()))}\")"
   ]
  },
  {
   "cell_type": "code",
   "execution_count": null,
   "id": "cc782b3f-ac91-4ee0-b67a-589f9d854c15",
   "metadata": {
    "tags": []
   },
   "outputs": [],
   "source": [
    "print(\"\\n2. DATA COLLECTION GAPS:\")\n",
    "print(f\"   - {len(daily_pd[daily_pd['count'] < 100])} days with minimal activity\")\n",
    "print(\"   - Most gaps occur in early years of data collection\")"
   ]
  },
  {
   "cell_type": "code",
   "execution_count": null,
   "id": "145c9856-cf72-4221-a4c5-dc80d4ff0e16",
   "metadata": {
    "tags": []
   },
   "outputs": [],
   "source": [
    "print(\"\\n3. SPIKE ANALYSIS:\")\n",
    "print(f\"   - {len(spikes)} monthly spikes detected\")\n",
    "print(\"   - Many spikes correlate with known shopping events (Black Friday, Prime Day)\")\n",
    "print(f\"   - {spikes['is_holiday'].sum()} spikes during holiday season\")"
   ]
  },
  {
   "cell_type": "code",
   "execution_count": null,
   "id": "e96c92db-6ebd-4d30-a93e-bd121d5e0a42",
   "metadata": {
    "tags": []
   },
   "outputs": [],
   "source": [
    "print(\"\\n4. PRE-2022 vs 2022-2023 (AI Era):\")\n",
    "print(\"   - Significant changes in review patterns post-2022\")\n",
    "print(\"   - Different text characteristics and reviewer behavior\")\n",
    "print(\"   - Important baseline for AI-generated content detection\")"
   ]
  },
  {
   "cell_type": "code",
   "execution_count": null,
   "id": "569bd3eb-b295-48f1-aa04-9e694e26772f",
   "metadata": {},
   "outputs": [],
   "source": []
  }
 ],
 "metadata": {
  "environment": {
   "kernel": "9c39b79e5d2e7072beb4bd59-runtime-000091a417d9",
   "name": "workbench-notebooks.m129",
   "type": "gcloud",
   "uri": "us-docker.pkg.dev/deeplearning-platform-release/gcr.io/workbench-notebooks:m129"
  },
  "kernelspec": {
   "display_name": "bdp-student-template on Serverless Spark (Remote)",
   "language": "python",
   "name": "9c39b79e5d2e7072beb4bd59-runtime-000091a417d9"
  },
  "language_info": {
   "codemirror_mode": {
    "name": "ipython",
    "version": 3
   },
   "file_extension": ".py",
   "mimetype": "text/x-python",
   "name": "python",
   "nbconvert_exporter": "python",
   "pygments_lexer": "ipython3",
   "version": "3.12.3"
  }
 },
 "nbformat": 4,
 "nbformat_minor": 5
}
