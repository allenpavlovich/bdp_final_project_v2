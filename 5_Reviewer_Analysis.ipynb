{
 "cells": [
  {
   "cell_type": "markdown",
   "id": "df180e90-bfd4-4368-9016-5352c659c456",
   "metadata": {},
   "source": [
    "# Big Data and Cloud Computing - Final Project\n",
    "\n",
    "## Reviewer Analysis\n",
    "\n",
    "### Author:\n",
    "Alen Pavlovic\n",
    "\n",
    "The University of Chicago"
   ]
  },
  {
   "cell_type": "code",
   "execution_count": 1,
   "id": "e87a0c2c-50bc-4ec8-9e28-84d0aef3cbb8",
   "metadata": {
    "tags": []
   },
   "outputs": [
    {
     "data": {
      "text/plain": [
       "4"
      ]
     },
     "execution_count": 1,
     "metadata": {},
     "output_type": "execute_result"
    }
   ],
   "source": [
    "2*3-2"
   ]
  },
  {
   "cell_type": "code",
   "execution_count": 3,
   "id": "f8222391-7520-46c9-9561-a83376951e6a",
   "metadata": {
    "tags": []
   },
   "outputs": [],
   "source": [
    "from pyspark.sql import SparkSession\n",
    "from pyspark.sql import functions as F\n",
    "from pyspark.sql.window import Window\n",
    "from pyspark.sql.types import *\n",
    "import matplotlib.pyplot as plt\n",
    "import seaborn as sns\n",
    "import pandas as pd\n",
    "from datetime import datetime, timedelta\n",
    "import numpy as np"
   ]
  },
  {
   "cell_type": "code",
   "execution_count": 4,
   "id": "a0dbe0c3-ae94-4dd3-bf7a-9aa5b14c7c99",
   "metadata": {
    "tags": []
   },
   "outputs": [],
   "source": [
    "try:\n",
    "    spark\n",
    "except NameError:\n",
    "    spark = SparkSession.builder \\\n",
    "        .appName(\"Product_Category_Analysis\") \\\n",
    "        .config(\"spark.sql.adaptive.enabled\", \"true\") \\\n",
    "        .config(\"spark.sql.adaptive.coalescePartitions.enabled\", \"true\") \\\n",
    "        .getOrCreate()"
   ]
  },
  {
   "cell_type": "code",
   "execution_count": 5,
   "id": "831cf05c-26d9-4caf-96d1-5bb224f2ebed",
   "metadata": {
    "tags": []
   },
   "outputs": [
    {
     "name": "stdout",
     "output_type": "stream",
     "text": [
      "Spark version: 3.5.1\n",
      "Application ID: app-20250526005902-0007\n"
     ]
    }
   ],
   "source": [
    "print(f\"Spark version: {spark.version}\")\n",
    "print(f\"Application ID: {spark.sparkContext.applicationId}\")"
   ]
  },
  {
   "cell_type": "code",
   "execution_count": 6,
   "id": "87596bb9-e06c-4715-ad23-f263d7558dc8",
   "metadata": {
    "tags": []
   },
   "outputs": [],
   "source": [
    "USE_DEV_DATA = True  # Set to False for full dataset"
   ]
  },
  {
   "cell_type": "code",
   "execution_count": 7,
   "id": "c3352005-4970-46c5-9f96-e1aa0da7e278",
   "metadata": {
    "tags": []
   },
   "outputs": [
    {
     "name": "stdout",
     "output_type": "stream",
     "text": [
      "Loading DEVELOPMENT dataset...\n"
     ]
    }
   ],
   "source": [
    "if USE_DEV_DATA:\n",
    "    data_path = \"gs://msca-bdp-students-bucket/shared_data/apavlovic/final_project/reviews_cleaned_eda_dev\"\n",
    "    meta_path = \"gs://msca-bdp-students-bucket/shared_data/apavlovic/final_project/meta_cleaned_eda_dev\"\n",
    "    print(\"Loading DEVELOPMENT dataset...\")\n",
    "else:\n",
    "    data_path = \"gs://msca-bdp-students-bucket/shared_data/apavlovic/final_project/cleaned_reviews\"\n",
    "    meta_path = \"gs://msca-bdp-students-bucket/shared_data/apavlovic/final_project/cleaned_metadata\"\n",
    "    print(\"Loading FULL dataset...\")"
   ]
  },
  {
   "cell_type": "code",
   "execution_count": 8,
   "id": "1a4225cc-0a99-47fc-9a62-014e90e711f7",
   "metadata": {
    "tags": []
   },
   "outputs": [
    {
     "name": "stderr",
     "output_type": "stream",
     "text": [
      "                                                                                \r"
     ]
    },
    {
     "name": "stdout",
     "output_type": "stream",
     "text": [
      "Loaded 6,191,852 reviews\n"
     ]
    },
    {
     "name": "stderr",
     "output_type": "stream",
     "text": [
      "[Stage 6:==============================================>           (8 + 2) / 10]\r"
     ]
    },
    {
     "name": "stdout",
     "output_type": "stream",
     "text": [
      "Loaded 1,378,413 products\n"
     ]
    },
    {
     "name": "stderr",
     "output_type": "stream",
     "text": [
      "                                                                                \r"
     ]
    }
   ],
   "source": [
    "reviews_df = spark.read.parquet(data_path)\n",
    "meta_df = spark.read.parquet(meta_path)\n",
    "\n",
    "# Also load the aggregated product data from previous analysis\n",
    "products_df = spark.read.parquet(\"gs://msca-bdp-students-bucket/shared_data/apavlovic/final_project/products_aggregated\")\n",
    "\n",
    "print(f\"Loaded {reviews_df.count():,} reviews\")\n",
    "print(f\"Loaded {meta_df.count():,} products\")"
   ]
  },
  {
   "cell_type": "code",
   "execution_count": 9,
   "id": "f4bfaf5b-8f22-4929-9789-30023bc85fab",
   "metadata": {
    "tags": []
   },
   "outputs": [
    {
     "name": "stdout",
     "output_type": "stream",
     "text": [
      "\n",
      "Review DataFrame Schema:\n",
      "root\n",
      " |-- user_id: string (nullable = true)\n",
      " |-- asin: string (nullable = true)\n",
      " |-- helpful_vote: long (nullable = true)\n",
      " |-- parent_asin: string (nullable = true)\n",
      " |-- rating: double (nullable = true)\n",
      " |-- text: string (nullable = true)\n",
      " |-- timestamp: long (nullable = true)\n",
      " |-- title: string (nullable = true)\n",
      " |-- verified_purchase: boolean (nullable = true)\n",
      " |-- review_date: date (nullable = true)\n",
      " |-- review_year: integer (nullable = true)\n",
      " |-- review_month: integer (nullable = true)\n",
      " |-- text_length: integer (nullable = true)\n",
      " |-- title_length: integer (nullable = true)\n",
      " |-- timestamp_converted: string (nullable = true)\n",
      " |-- year: integer (nullable = true)\n",
      " |-- month: integer (nullable = true)\n",
      " |-- year_month: string (nullable = true)\n",
      " |-- high_volume_user: boolean (nullable = true)\n",
      "\n",
      "\n",
      "Meta DataFrame Schema:\n",
      "root\n",
      " |-- parent_asin: string (nullable = true)\n",
      " |-- author: struct (nullable = true)\n",
      " |    |-- about: array (nullable = true)\n",
      " |    |    |-- element: string (containsNull = true)\n",
      " |    |-- avatar: string (nullable = true)\n",
      " |    |-- name: string (nullable = true)\n",
      " |-- average_rating: double (nullable = true)\n",
      " |-- bought_together: string (nullable = true)\n",
      " |-- categories: array (nullable = true)\n",
      " |    |-- element: string (containsNull = true)\n",
      " |-- description: array (nullable = true)\n",
      " |    |-- element: string (containsNull = true)\n",
      " |-- main_category: string (nullable = true)\n",
      " |-- price: string (nullable = true)\n",
      " |-- rating_number: long (nullable = true)\n",
      " |-- store: string (nullable = true)\n",
      " |-- subtitle: string (nullable = true)\n",
      " |-- title: string (nullable = true)\n",
      " |-- price_clean: float (nullable = true)\n",
      "\n"
     ]
    }
   ],
   "source": [
    "print(\"\\nReview DataFrame Schema:\")\n",
    "reviews_df.printSchema()\n",
    "\n",
    "print(\"\\nMeta DataFrame Schema:\")\n",
    "meta_df.printSchema()"
   ]
  },
  {
   "cell_type": "code",
   "execution_count": 10,
   "id": "a23ee099-ad92-434e-a714-23d0080718dd",
   "metadata": {
    "tags": []
   },
   "outputs": [],
   "source": [
    "def create_reviewer_aggregates(reviews_df, products_df):\n",
    "    \"\"\"Create reviewer-level aggregated statistics\"\"\"\n",
    "    print(\"\\n=== CREATING REVIEWER AGGREGATES ===\")\n",
    "    \n",
    "    # Basic reviewer statistics - use existing review_date column\n",
    "    reviewer_stats = reviews_df.groupBy(\"user_id\").agg(\n",
    "        F.count(\"*\").alias(\"review_count\"),\n",
    "        F.avg(\"rating\").alias(\"avg_rating\"),\n",
    "        F.stddev(\"rating\").alias(\"rating_std\"),\n",
    "        F.countDistinct(\"parent_asin\").alias(\"unique_products\"),\n",
    "        F.min(\"review_date\").alias(\"first_review_date\"),\n",
    "        F.max(\"review_date\").alias(\"last_review_date\"),\n",
    "        F.avg(\"text_length\").alias(\"avg_review_length\"),\n",
    "        F.sum(F.col(\"verified_purchase\").cast(\"int\")).alias(\"verified_purchases\"),\n",
    "        F.sum(\"helpful_vote\").alias(\"total_helpful_votes\")\n",
    "    )\n",
    "    \n",
    "    # Calculate review span in days using the existing date columns\n",
    "    reviewer_stats = reviewer_stats.withColumn(\n",
    "        \"review_span_days\",\n",
    "        F.datediff(F.col(\"last_review_date\"), F.col(\"first_review_date\"))\n",
    "    ).withColumn(\n",
    "        \"reviews_per_day\",\n",
    "        F.when(F.col(\"review_span_days\") > 0, \n",
    "               F.col(\"review_count\") / F.col(\"review_span_days\"))\n",
    "        .otherwise(F.col(\"review_count\"))\n",
    "    ).withColumn(\n",
    "        \"verified_purchase_rate\",\n",
    "        F.col(\"verified_purchases\") / F.col(\"review_count\")\n",
    "    )\n",
    "    \n",
    "    # Get category diversity for each reviewer\n",
    "    reviewer_categories = reviews_df.join(\n",
    "        products_df.select(\"parent_asin\", \"main_category\"),\n",
    "        on=\"parent_asin\",\n",
    "        how=\"left\"\n",
    "    ).groupBy(\"user_id\").agg(\n",
    "        F.countDistinct(\"main_category\").alias(\"category_count\"),\n",
    "        F.collect_set(\"main_category\").alias(\"categories_list\")\n",
    "    )\n",
    "    \n",
    "    # Join all reviewer information\n",
    "    reviewers_full = reviewer_stats.join(reviewer_categories, on=\"user_id\", how=\"left\")\n",
    "    \n",
    "    # Add activity level classification\n",
    "    reviewers_full = reviewers_full.withColumn(\n",
    "        \"activity_level\",\n",
    "        F.when(F.col(\"review_count\") >= 100, \"Hyperactive\")\n",
    "        .when(F.col(\"review_count\") >= 50, \"Very Active\")\n",
    "        .when(F.col(\"review_count\") >= 20, \"Active\")\n",
    "        .when(F.col(\"review_count\") >= 10, \"Moderate\")\n",
    "        .otherwise(\"Casual\")\n",
    "    )\n",
    "    \n",
    "    # Cache for performance\n",
    "    reviewers_full.cache()\n",
    "    \n",
    "    print(f\"Created aggregates for {reviewers_full.count():,} reviewers\")\n",
    "    \n",
    "    return reviewers_full"
   ]
  },
  {
   "cell_type": "code",
   "execution_count": 11,
   "id": "62d4f88e-9399-416c-8898-28f7c6516163",
   "metadata": {
    "tags": []
   },
   "outputs": [
    {
     "name": "stdout",
     "output_type": "stream",
     "text": [
      "\n",
      "=== CREATING REVIEWER AGGREGATES ===\n"
     ]
    },
    {
     "name": "stderr",
     "output_type": "stream",
     "text": [
      "[Stage 25:==================================================> (979 + 12) / 1000]\r"
     ]
    },
    {
     "name": "stdout",
     "output_type": "stream",
     "text": [
      "Created aggregates for 4,775,391 reviewers\n"
     ]
    },
    {
     "name": "stderr",
     "output_type": "stream",
     "text": [
      "                                                                                \r"
     ]
    }
   ],
   "source": [
    "reviewers_df = create_reviewer_aggregates(reviews_df, products_df)"
   ]
  },
  {
   "cell_type": "code",
   "execution_count": 12,
   "id": "89951837-1e55-45c8-9082-88f327b153fa",
   "metadata": {
    "tags": []
   },
   "outputs": [],
   "source": [
    "def analyze_top_reviewers(reviewers_df, top_n=100):\n",
    "    \"\"\"Analyze the most active reviewers by review count\"\"\"\n",
    "    print(\"\\n=== MOST ACTIVE REVIEWERS ANALYSIS ===\")\n",
    "    \n",
    "    # Get top reviewers\n",
    "    top_reviewers = reviewers_df.orderBy(F.col(\"review_count\").desc()).limit(top_n)\n",
    "    top_reviewers_pd = top_reviewers.toPandas()\n",
    "    \n",
    "    print(f\"\\nTop {top_n} Most Active Reviewers:\")\n",
    "    print(\"=\"*80)\n",
    "    \n",
    "    # Display top 10 in detail\n",
    "    for i, row in top_reviewers_pd.head(10).iterrows():\n",
    "        print(f\"\\n{i+1}. User ID: {row['user_id']}\")\n",
    "        print(f\"   - Total reviews: {row['review_count']:,}\")\n",
    "        print(f\"   - Unique products: {row['unique_products']:,}\")\n",
    "        print(f\"   - Categories covered: {row['category_count']}\")\n",
    "        print(f\"   - Avg rating given: {row['avg_rating']:.2f}\")\n",
    "        print(f\"   - Review span: {row['review_span_days']} days\")\n",
    "        print(f\"   - Reviews per day: {row['reviews_per_day']:.2f}\")\n",
    "        print(f\"   - Verified purchase rate: {row['verified_purchase_rate']:.1%}\")\n",
    "    \n",
    "    # Activity level distribution\n",
    "    print(\"\\n=== Activity Level Distribution ===\")\n",
    "    activity_dist = reviewers_df.groupBy(\"activity_level\").agg(\n",
    "        F.count(\"*\").alias(\"reviewer_count\"),\n",
    "        F.sum(\"review_count\").alias(\"total_reviews\")\n",
    "    ).orderBy(\n",
    "        F.when(F.col(\"activity_level\") == \"Hyperactive\", 1)\n",
    "        .when(F.col(\"activity_level\") == \"Very Active\", 2)\n",
    "        .when(F.col(\"activity_level\") == \"Active\", 3)\n",
    "        .when(F.col(\"activity_level\") == \"Moderate\", 4)\n",
    "        .otherwise(5)\n",
    "    ).collect()\n",
    "    \n",
    "    total_reviewers = reviewers_df.count()\n",
    "    total_reviews = reviews_df.count()\n",
    "    \n",
    "    for row in activity_dist:\n",
    "        pct_reviewers = (row['reviewer_count'] / total_reviewers) * 100\n",
    "        pct_reviews = (row['total_reviews'] / total_reviews) * 100\n",
    "        print(f\"\\n{row['activity_level']}:\")\n",
    "        print(f\"  - Reviewers: {row['reviewer_count']:,} ({pct_reviewers:.2f}%)\")\n",
    "        print(f\"  - Reviews: {row['total_reviews']:,} ({pct_reviews:.2f}%)\")\n",
    "    \n",
    "    # Suspicious patterns\n",
    "    print(\"\\n=== Suspicious Pattern Detection ===\")\n",
    "    \n",
    "    # High volume in short time\n",
    "    suspicious_rate = top_reviewers_pd[top_reviewers_pd['reviews_per_day'] > 5]\n",
    "    print(f\"\\nReviewers with >5 reviews/day: {len(suspicious_rate)}\")\n",
    "    if len(suspicious_rate) > 0:\n",
    "        print(\"Top 5 highest review rates:\")\n",
    "        for i, row in suspicious_rate.head(5).iterrows():\n",
    "            print(f\"  - {row['user_id']}: {row['reviews_per_day']:.1f} reviews/day\")\n",
    "    \n",
    "    # Single-category focus\n",
    "    single_category = top_reviewers_pd[top_reviewers_pd['category_count'] == 1]\n",
    "    print(f\"\\nTop reviewers focusing on single category: {len(single_category)}\")\n",
    "    \n",
    "    # Extreme ratings\n",
    "    extreme_raters = top_reviewers_pd[\n",
    "        (top_reviewers_pd['avg_rating'] >= 4.8) | \n",
    "        (top_reviewers_pd['avg_rating'] <= 1.5)\n",
    "    ]\n",
    "    print(f\"Top reviewers with extreme average ratings: {len(extreme_raters)}\")\n",
    "    \n",
    "    return top_reviewers_pd"
   ]
  },
  {
   "cell_type": "code",
   "execution_count": 13,
   "id": "a59fdbc4-957f-4c48-9fb8-f22c3fce9248",
   "metadata": {
    "tags": []
   },
   "outputs": [
    {
     "name": "stdout",
     "output_type": "stream",
     "text": [
      "\n",
      "=== MOST ACTIVE REVIEWERS ANALYSIS ===\n"
     ]
    },
    {
     "name": "stderr",
     "output_type": "stream",
     "text": [
      "                                                                                \r"
     ]
    },
    {
     "name": "stdout",
     "output_type": "stream",
     "text": [
      "\n",
      "Top 100 Most Active Reviewers:\n",
      "================================================================================\n",
      "\n",
      "1. User ID: AG73BVBKUOH22USSFJA5ZWL7AKXA\n",
      "   - Total reviews: 382\n",
      "   - Unique products: 381\n",
      "   - Categories covered: 13\n",
      "   - Avg rating given: 4.49\n",
      "   - Review span: 2908 days\n",
      "   - Reviews per day: 0.13\n",
      "   - Verified purchase rate: 6.8%\n",
      "\n",
      "2. User ID: AGZUJTI7A3JFKB4FP5JOH6NVAJIQ_1\n",
      "   - Total reviews: 243\n",
      "   - Unique products: 237\n",
      "   - Categories covered: 8\n",
      "   - Avg rating given: 4.69\n",
      "   - Review span: 974 days\n",
      "   - Reviews per day: 0.25\n",
      "   - Verified purchase rate: 1.2%\n",
      "\n",
      "3. User ID: AEMP3A7IKW37CMWFXNKXWW6HGJHA_1\n",
      "   - Total reviews: 231\n",
      "   - Unique products: 231\n",
      "   - Categories covered: 7\n",
      "   - Avg rating given: 4.10\n",
      "   - Review span: 1348 days\n",
      "   - Reviews per day: 0.17\n",
      "   - Verified purchase rate: 2.2%\n",
      "\n",
      "4. User ID: AH2DN3Q2OKAW7JAFRIYPHOUOM2ZQ\n",
      "   - Total reviews: 209\n",
      "   - Unique products: 188\n",
      "   - Categories covered: 5\n",
      "   - Avg rating given: 4.46\n",
      "   - Review span: 1115 days\n",
      "   - Reviews per day: 0.19\n",
      "   - Verified purchase rate: 0.5%\n",
      "\n",
      "5. User ID: AFXF3EGQTQDXMRLDWFU7UBFQZB7Q\n",
      "   - Total reviews: 204\n",
      "   - Unique products: 202\n",
      "   - Categories covered: 10\n",
      "   - Avg rating given: 3.69\n",
      "   - Review span: 3209 days\n",
      "   - Reviews per day: 0.06\n",
      "   - Verified purchase rate: 0.5%\n",
      "\n",
      "6. User ID: AEZP6Z2C5AVQDZAJECQYZWQRNG3Q\n",
      "   - Total reviews: 176\n",
      "   - Unique products: 175\n",
      "   - Categories covered: 7\n",
      "   - Avg rating given: 4.21\n",
      "   - Review span: 1191 days\n",
      "   - Reviews per day: 0.15\n",
      "   - Verified purchase rate: 0.0%\n",
      "\n",
      "7. User ID: AFF6DS6NOWRIF2AROFASUVVOPYLA\n",
      "   - Total reviews: 163\n",
      "   - Unique products: 162\n",
      "   - Categories covered: 4\n",
      "   - Avg rating given: 4.77\n",
      "   - Review span: 457 days\n",
      "   - Reviews per day: 0.36\n",
      "   - Verified purchase rate: 0.0%\n",
      "\n",
      "8. User ID: AEAXAJACFMXIAAH4WOHRMXPSZWFA\n",
      "   - Total reviews: 162\n",
      "   - Unique products: 161\n",
      "   - Categories covered: 9\n",
      "   - Avg rating given: 4.77\n",
      "   - Review span: 3639 days\n",
      "   - Reviews per day: 0.04\n",
      "   - Verified purchase rate: 3.1%\n",
      "\n",
      "9. User ID: AGYVC7KVHP2AWM7BDCEYNHFA6F3Q\n",
      "   - Total reviews: 157\n",
      "   - Unique products: 157\n",
      "   - Categories covered: 9\n",
      "   - Avg rating given: 4.52\n",
      "   - Review span: 2893 days\n",
      "   - Reviews per day: 0.05\n",
      "   - Verified purchase rate: 0.6%\n",
      "\n",
      "10. User ID: AHV6QCNBJNSGLATP56JAWJ3C4G2A\n",
      "   - Total reviews: 144\n",
      "   - Unique products: 144\n",
      "   - Categories covered: 9\n",
      "   - Avg rating given: 4.28\n",
      "   - Review span: 3088 days\n",
      "   - Reviews per day: 0.05\n",
      "   - Verified purchase rate: 6.9%\n",
      "\n",
      "=== Activity Level Distribution ===\n"
     ]
    },
    {
     "name": "stderr",
     "output_type": "stream",
     "text": [
      "[Stage 72:=======================================================>(74 + 1) / 75]\r"
     ]
    },
    {
     "name": "stdout",
     "output_type": "stream",
     "text": [
      "\n",
      "Hyperactive:\n",
      "  - Reviewers: 34 (0.00%)\n",
      "  - Reviews: 4,801 (0.08%)\n",
      "\n",
      "Very Active:\n",
      "  - Reviewers: 127 (0.00%)\n",
      "  - Reviews: 8,442 (0.14%)\n",
      "\n",
      "Active:\n",
      "  - Reviewers: 977 (0.02%)\n",
      "  - Reviews: 26,952 (0.44%)\n",
      "\n",
      "Moderate:\n",
      "  - Reviewers: 5,208 (0.11%)\n",
      "  - Reviews: 64,577 (1.04%)\n",
      "\n",
      "Casual:\n",
      "  - Reviewers: 4,769,045 (99.87%)\n",
      "  - Reviews: 6,087,080 (98.31%)\n",
      "\n",
      "=== Suspicious Pattern Detection ===\n",
      "\n",
      "Reviewers with >5 reviews/day: 0\n",
      "\n",
      "Top reviewers focusing on single category: 0\n",
      "Top reviewers with extreme average ratings: 13\n"
     ]
    },
    {
     "name": "stderr",
     "output_type": "stream",
     "text": [
      "                                                                                \r"
     ]
    }
   ],
   "source": [
    "top_reviewers = analyze_top_reviewers(reviewers_df)"
   ]
  },
  {
   "cell_type": "code",
   "execution_count": 14,
   "id": "85f3b21e-fb07-47d8-a5f1-59799f28af03",
   "metadata": {
    "tags": []
   },
   "outputs": [],
   "source": [
    "def analyze_category_diversity(reviewers_df, reviews_df, products_df):\n",
    "    \"\"\"Analyze whether top reviewers write across diverse categories\"\"\"\n",
    "    print(\"\\n=== CATEGORY DIVERSITY ANALYSIS ===\")\n",
    "    \n",
    "    # Get different reviewer segments\n",
    "    segments = [\n",
    "        (\"Hyperactive\", reviewers_df.filter(F.col(\"activity_level\") == \"Hyperactive\")),\n",
    "        (\"Very Active\", reviewers_df.filter(F.col(\"activity_level\") == \"Very Active\")),\n",
    "        (\"Active\", reviewers_df.filter(F.col(\"activity_level\") == \"Active\")),\n",
    "        (\"Moderate\", reviewers_df.filter(F.col(\"activity_level\") == \"Moderate\")),\n",
    "        (\"Casual\", reviewers_df.filter(F.col(\"activity_level\") == \"Casual\"))\n",
    "    ]\n",
    "    \n",
    "    print(\"\\n=== Category Diversity by Activity Level ===\")\n",
    "    diversity_stats = []\n",
    "    \n",
    "    for segment_name, segment_df in segments:\n",
    "        stats = segment_df.agg(\n",
    "            F.avg(\"category_count\").alias(\"avg_categories\"),\n",
    "            F.stddev(\"category_count\").alias(\"std_categories\"),\n",
    "            F.min(\"category_count\").alias(\"min_categories\"),\n",
    "            F.max(\"category_count\").alias(\"max_categories\"),\n",
    "            F.avg(\"review_count\").alias(\"avg_reviews\")\n",
    "        ).collect()[0]\n",
    "        \n",
    "        print(f\"\\n{segment_name} Reviewers:\")\n",
    "        print(f\"  - Average categories: {stats['avg_categories']:.1f}\")\n",
    "        print(f\"  - Std dev: {stats['std_categories']:.1f}\")\n",
    "        print(f\"  - Range: {stats['min_categories']} - {stats['max_categories']}\")\n",
    "        print(f\"  - Average reviews: {stats['avg_reviews']:.1f}\")\n",
    "        \n",
    "        diversity_stats.append({\n",
    "            'segment': segment_name,\n",
    "            'avg_categories': stats['avg_categories'],\n",
    "            'avg_reviews': stats['avg_reviews']\n",
    "        })\n",
    "    \n",
    "    # Category concentration for top reviewers\n",
    "    print(\"\\n=== Category Concentration for Top 100 Reviewers ===\")\n",
    "    top_100 = reviewers_df.orderBy(F.col(\"review_count\").desc()).limit(100)\n",
    "    \n",
    "    # Get detailed category breakdown for top reviewers\n",
    "    top_reviewer_ids = [row.user_id for row in top_100.select(\"user_id\").collect()]\n",
    "    \n",
    "    category_breakdown = reviews_df.filter(\n",
    "        F.col(\"user_id\").isin(top_reviewer_ids)\n",
    "    ).join(\n",
    "        products_df.select(\"parent_asin\", \"main_category\"),\n",
    "        on=\"parent_asin\",\n",
    "        how=\"left\"\n",
    "    ).groupBy(\"user_id\", \"main_category\").agg(\n",
    "        F.count(\"*\").alias(\"category_reviews\")\n",
    "    )\n",
    "    \n",
    "    # Calculate concentration metrics\n",
    "    concentration_metrics = category_breakdown.groupBy(\"user_id\").agg(\n",
    "        F.max(\"category_reviews\").alias(\"max_category_reviews\"),\n",
    "        F.sum(\"category_reviews\").alias(\"total_reviews\"),\n",
    "        F.collect_list(F.struct(\"main_category\", \"category_reviews\")).alias(\"category_dist\")\n",
    "    ).withColumn(\n",
    "        \"top_category_concentration\",\n",
    "        F.col(\"max_category_reviews\") / F.col(\"total_reviews\")\n",
    "    )\n",
    "    \n",
    "    concentration_pd = concentration_metrics.select(\n",
    "        \"user_id\", \"top_category_concentration\"\n",
    "    ).toPandas()\n",
    "    \n",
    "    print(f\"\\nCategory Concentration Statistics:\")\n",
    "    print(f\"  - Average top category concentration: {concentration_pd['top_category_concentration'].mean():.1%}\")\n",
    "    print(f\"  - Reviewers with >50% in one category: {len(concentration_pd[concentration_pd['top_category_concentration'] > 0.5])}\")\n",
    "    print(f\"  - Reviewers with >75% in one category: {len(concentration_pd[concentration_pd['top_category_concentration'] > 0.75])}\")\n",
    "    \n",
    "    return diversity_stats, concentration_pd"
   ]
  },
  {
   "cell_type": "code",
   "execution_count": 15,
   "id": "2ee854a6-bf14-4efc-a865-aa9819a57ced",
   "metadata": {
    "tags": []
   },
   "outputs": [
    {
     "name": "stdout",
     "output_type": "stream",
     "text": [
      "\n",
      "=== CATEGORY DIVERSITY ANALYSIS ===\n",
      "\n",
      "=== Category Diversity by Activity Level ===\n"
     ]
    },
    {
     "name": "stderr",
     "output_type": "stream",
     "text": [
      "                                                                                \r"
     ]
    },
    {
     "name": "stdout",
     "output_type": "stream",
     "text": [
      "\n",
      "Hyperactive Reviewers:\n",
      "  - Average categories: 7.1\n",
      "  - Std dev: 2.1\n",
      "  - Range: 3 - 13\n",
      "  - Average reviews: 141.2\n"
     ]
    },
    {
     "name": "stderr",
     "output_type": "stream",
     "text": [
      "                                                                                \r"
     ]
    },
    {
     "name": "stdout",
     "output_type": "stream",
     "text": [
      "\n",
      "Very Active Reviewers:\n",
      "  - Average categories: 6.0\n",
      "  - Std dev: 2.2\n",
      "  - Range: 2 - 13\n",
      "  - Average reviews: 66.5\n"
     ]
    },
    {
     "name": "stderr",
     "output_type": "stream",
     "text": [
      "                                                                                \r"
     ]
    },
    {
     "name": "stdout",
     "output_type": "stream",
     "text": [
      "\n",
      "Active Reviewers:\n",
      "  - Average categories: 4.8\n",
      "  - Std dev: 1.8\n",
      "  - Range: 1 - 10\n",
      "  - Average reviews: 27.6\n"
     ]
    },
    {
     "name": "stderr",
     "output_type": "stream",
     "text": [
      "                                                                                \r"
     ]
    },
    {
     "name": "stdout",
     "output_type": "stream",
     "text": [
      "\n",
      "Moderate Reviewers:\n",
      "  - Average categories: 3.5\n",
      "  - Std dev: 1.4\n",
      "  - Range: 1 - 9\n",
      "  - Average reviews: 12.4\n"
     ]
    },
    {
     "name": "stderr",
     "output_type": "stream",
     "text": [
      "                                                                                \r"
     ]
    },
    {
     "name": "stdout",
     "output_type": "stream",
     "text": [
      "\n",
      "Casual Reviewers:\n",
      "  - Average categories: 1.1\n",
      "  - Std dev: 0.4\n",
      "  - Range: 0 - 8\n",
      "  - Average reviews: 1.3\n",
      "\n",
      "=== Category Concentration for Top 100 Reviewers ===\n"
     ]
    },
    {
     "name": "stderr",
     "output_type": "stream",
     "text": [
      "[Stage 136:===================================================>   (70 + 5) / 75]\r"
     ]
    },
    {
     "name": "stdout",
     "output_type": "stream",
     "text": [
      "\n",
      "Category Concentration Statistics:\n",
      "  - Average top category concentration: 73.1%\n",
      "  - Reviewers with >50% in one category: 97\n",
      "  - Reviewers with >75% in one category: 47\n"
     ]
    },
    {
     "name": "stderr",
     "output_type": "stream",
     "text": [
      "                                                                                \r"
     ]
    }
   ],
   "source": [
    "diversity_stats, concentration_data = analyze_category_diversity(reviewers_df, reviews_df, products_df)"
   ]
  },
  {
   "cell_type": "code",
   "execution_count": 16,
   "id": "02c15e66-a9b2-4a40-bd33-6bedcf0612e8",
   "metadata": {
    "tags": []
   },
   "outputs": [],
   "source": [
    "def analyze_reviewer_temporal_patterns(reviewers_df, reviews_df):\n",
    "    \"\"\"Analyze temporal patterns in reviewer behavior\"\"\"\n",
    "    print(\"\\n=== REVIEWER TEMPORAL PATTERNS ===\")\n",
    "    \n",
    "    # Get top 100 reviewers for detailed temporal analysis\n",
    "    top_reviewers = reviewers_df.orderBy(F.col(\"review_count\").desc()).limit(100)\n",
    "    top_reviewer_ids = [row.user_id for row in top_reviewers.select(\"user_id\").collect()]\n",
    "    \n",
    "    # Get review timeline for top reviewers\n",
    "    top_reviewer_timeline = reviews_df.filter(\n",
    "        F.col(\"user_id\").isin(top_reviewer_ids)\n",
    "    ).select(\"user_id\", \"review_date\", \"rating\")\n",
    "    \n",
    "    # Analyze review frequency patterns\n",
    "    print(\"\\n=== Review Frequency Patterns ===\")\n",
    "    \n",
    "    # Daily review counts for top reviewers\n",
    "    daily_patterns = top_reviewer_timeline.groupBy(\"user_id\", \"review_date\").agg(\n",
    "        F.count(\"*\").alias(\"daily_reviews\")\n",
    "    )\n",
    "    \n",
    "    # Find burst patterns\n",
    "    burst_threshold = 10  # More than 10 reviews in a single day\n",
    "    burst_days = daily_patterns.filter(F.col(\"daily_reviews\") >= burst_threshold)\n",
    "    \n",
    "    burst_stats = burst_days.groupBy(\"user_id\").agg(\n",
    "        F.count(\"*\").alias(\"burst_days\"),\n",
    "        F.max(\"daily_reviews\").alias(\"max_daily_reviews\")\n",
    "    ).collect()\n",
    "    \n",
    "    if burst_stats:\n",
    "        print(f\"\\nReviewers with burst patterns (≥{burst_threshold} reviews/day):\")\n",
    "        for row in sorted(burst_stats, key=lambda x: x['max_daily_reviews'], reverse=True)[:10]:\n",
    "            print(f\"  - {row['user_id']}: {row['burst_days']} burst days, max {row['max_daily_reviews']} reviews/day\")\n",
    "    \n",
    "    # Review gaps analysis\n",
    "    print(\"\\n=== Review Gap Analysis ===\")\n",
    "    \n",
    "    # Calculate gaps between consecutive reviews for each reviewer\n",
    "    window_spec = Window.partitionBy(\"user_id\").orderBy(\"review_date\")\n",
    "    \n",
    "    review_gaps = reviews_df.filter(\n",
    "        F.col(\"user_id\").isin(top_reviewer_ids[:20])  # Analyze top 20 for performance\n",
    "    ).select(\"user_id\", \"review_date\").withColumn(\n",
    "        \"prev_review_date\", F.lag(\"review_date\").over(window_spec)\n",
    "    ).filter(\n",
    "        F.col(\"prev_review_date\").isNotNull()\n",
    "    ).withColumn(\n",
    "        \"gap_days\", F.datediff(\"review_date\", \"prev_review_date\")\n",
    "    )\n",
    "    \n",
    "    gap_stats = review_gaps.groupBy(\"user_id\").agg(\n",
    "        F.avg(\"gap_days\").alias(\"avg_gap_days\"),\n",
    "        F.stddev(\"gap_days\").alias(\"std_gap_days\"),\n",
    "        F.min(\"gap_days\").alias(\"min_gap_days\"),\n",
    "        F.max(\"gap_days\").alias(\"max_gap_days\")\n",
    "    ).collect()\n",
    "    \n",
    "    consistent_reviewers = 0\n",
    "    bursty_reviewers = 0\n",
    "    \n",
    "    for row in gap_stats:\n",
    "        if row['std_gap_days'] and row['std_gap_days'] < 10:\n",
    "            consistent_reviewers += 1\n",
    "        elif row['std_gap_days'] and row['std_gap_days'] > 30:\n",
    "            bursty_reviewers += 1\n",
    "    \n",
    "    print(f\"\\nReview Pattern Classification (Top 20):\")\n",
    "    print(f\"  - Consistent reviewers (low gap variance): {consistent_reviewers}\")\n",
    "    print(f\"  - Bursty reviewers (high gap variance): {bursty_reviewers}\")\n",
    "    \n",
    "    return burst_stats, gap_stats"
   ]
  },
  {
   "cell_type": "code",
   "execution_count": 17,
   "id": "48160578-dfeb-4181-b2ce-b74104ebab6c",
   "metadata": {
    "tags": []
   },
   "outputs": [
    {
     "name": "stdout",
     "output_type": "stream",
     "text": [
      "\n",
      "=== REVIEWER TEMPORAL PATTERNS ===\n"
     ]
    },
    {
     "name": "stderr",
     "output_type": "stream",
     "text": [
      "                                                                                \r"
     ]
    },
    {
     "name": "stdout",
     "output_type": "stream",
     "text": [
      "\n",
      "=== Review Frequency Patterns ===\n"
     ]
    },
    {
     "name": "stderr",
     "output_type": "stream",
     "text": [
      "                                                                                \r"
     ]
    },
    {
     "name": "stdout",
     "output_type": "stream",
     "text": [
      "\n",
      "Reviewers with burst patterns (≥10 reviews/day):\n",
      "  - AESGD7JWLZAPQZLN7NQD3GRPUADA: 1 burst days, max 11 reviews/day\n",
      "\n",
      "=== Review Gap Analysis ===\n"
     ]
    },
    {
     "name": "stderr",
     "output_type": "stream",
     "text": [
      "[Stage 153:=====================================================> (73 + 2) / 75]\r"
     ]
    },
    {
     "name": "stdout",
     "output_type": "stream",
     "text": [
      "\n",
      "Review Pattern Classification (Top 20):\n",
      "  - Consistent reviewers (low gap variance): 4\n",
      "  - Bursty reviewers (high gap variance): 9\n"
     ]
    },
    {
     "name": "stderr",
     "output_type": "stream",
     "text": [
      "                                                                                \r"
     ]
    }
   ],
   "source": [
    "burst_patterns, gap_patterns = analyze_reviewer_temporal_patterns(reviewers_df, reviews_df)"
   ]
  },
  {
   "cell_type": "code",
   "execution_count": 18,
   "id": "065c39ac-091d-4dea-b1d2-6da742a6e378",
   "metadata": {
    "tags": []
   },
   "outputs": [],
   "source": [
    "def create_reviewer_visualizations(reviewers_df, diversity_stats, top_reviewers):\n",
    "    \"\"\"Create visualizations for reviewer analysis\"\"\"\n",
    "    print(\"\\n=== CREATING VISUALIZATIONS ===\")\n",
    "    \n",
    "    # Set style\n",
    "    plt.style.use('seaborn-v0_8-darkgrid')\n",
    "    \n",
    "    # Create figure with subplots\n",
    "    fig, axes = plt.subplots(2, 2, figsize=(16, 12))\n",
    "    \n",
    "    # 1. Review Count Distribution\n",
    "    ax1 = axes[0, 0]\n",
    "    \n",
    "    # Get review count bins\n",
    "    review_counts = reviewers_df.select(\"review_count\").toPandas()\n",
    "    max_count = review_counts['review_count'].max()\n",
    "    \n",
    "    # Create dynamic bins based on actual data\n",
    "    bins = [1, 5, 10, 20, 50, 100]\n",
    "    labels = ['1-4', '5-9', '10-19', '20-49', '50-99']\n",
    "    \n",
    "    if max_count > 100:\n",
    "        if max_count > 500:\n",
    "            bins.append(500)\n",
    "            labels.append('100-499')\n",
    "            if max_count > 1000:\n",
    "                bins.append(1000)\n",
    "                labels.append('500-999')\n",
    "                bins.append(max_count + 1)\n",
    "                labels.append('1000+')\n",
    "            else:\n",
    "                bins.append(max_count + 1)\n",
    "                labels.append(f'500-{int(max_count)}')\n",
    "        else:\n",
    "            bins.append(max_count + 1)\n",
    "            labels.append(f'100-{int(max_count)}')\n",
    "    else:\n",
    "        bins.append(max_count + 1)\n",
    "        labels = labels[:len(bins)-1]  # Adjust labels to match bins\n",
    "    \n",
    "    review_counts['bin'] = pd.cut(review_counts['review_count'], bins=bins, labels=labels, include_lowest=True)\n",
    "    bin_counts = review_counts['bin'].value_counts().sort_index()\n",
    "    \n",
    "    ax1.bar(range(len(bin_counts)), bin_counts.values)\n",
    "    ax1.set_xticks(range(len(bin_counts)))\n",
    "    ax1.set_xticklabels(bin_counts.index, rotation=45, ha='right')\n",
    "    ax1.set_xlabel('Number of Reviews')\n",
    "    ax1.set_ylabel('Number of Reviewers')\n",
    "    ax1.set_title('Distribution of Reviewers by Review Count', fontsize=14, fontweight='bold')\n",
    "    ax1.set_yscale('log')\n",
    "    \n",
    "    # Add value labels\n",
    "    for i, v in enumerate(bin_counts.values):\n",
    "        ax1.text(i, v, f'{v:,}', ha='center', va='bottom')\n",
    "    \n",
    "    # 2. Category Diversity by Activity Level\n",
    "    ax2 = axes[0, 1]\n",
    "    \n",
    "    diversity_df = pd.DataFrame(diversity_stats)\n",
    "    x_pos = range(len(diversity_df))\n",
    "    \n",
    "    ax2.bar(x_pos, diversity_df['avg_categories'])\n",
    "    ax2.set_xticks(x_pos)\n",
    "    ax2.set_xticklabels(diversity_df['segment'], rotation=15, ha='right')\n",
    "    ax2.set_xlabel('Reviewer Activity Level')\n",
    "    ax2.set_ylabel('Average Number of Categories')\n",
    "    ax2.set_title('Category Diversity by Reviewer Activity Level', fontsize=14, fontweight='bold')\n",
    "    \n",
    "    # Add value labels\n",
    "    for i, v in enumerate(diversity_df['avg_categories']):\n",
    "        ax2.text(i, v, f'{v:.1f}', ha='center', va='bottom')\n",
    "    \n",
    "    # 3. Top 20 Reviewers Activity\n",
    "    ax3 = axes[1, 0]\n",
    "    \n",
    "    top_20 = top_reviewers.head(20)\n",
    "    y_pos = range(len(top_20))\n",
    "    \n",
    "    bars = ax3.barh(y_pos, top_20['review_count'])\n",
    "    ax3.set_yticks(y_pos)\n",
    "    ax3.set_yticklabels([f\"User {i+1}\" for i in range(20)])\n",
    "    ax3.set_xlabel('Number of Reviews')\n",
    "    ax3.set_title('Top 20 Most Active Reviewers', fontsize=14, fontweight='bold')\n",
    "    ax3.invert_yaxis()\n",
    "    \n",
    "    # Color bars based on verified purchase rate\n",
    "    colors = plt.cm.RdYlGn(top_20['verified_purchase_rate'])\n",
    "    for bar, color in zip(bars, colors):\n",
    "        bar.set_color(color)\n",
    "    \n",
    "    # Add colorbar legend\n",
    "    sm = plt.cm.ScalarMappable(cmap=plt.cm.RdYlGn, norm=plt.Normalize(vmin=0, vmax=1))\n",
    "    sm.set_array([])\n",
    "    cbar = plt.colorbar(sm, ax=ax3, fraction=0.02, pad=0.01)\n",
    "    cbar.set_label('Verified Purchase Rate', rotation=270, labelpad=15)\n",
    "    \n",
    "    # 4. Rating Distribution for Top Reviewers\n",
    "    ax4 = axes[1, 1]\n",
    "    \n",
    "    # Compare rating distributions\n",
    "    top_reviewer_ratings = top_reviewers['avg_rating'].values\n",
    "    \n",
    "    ax4.hist(top_reviewer_ratings, bins=20, alpha=0.7, label='Top 100 Reviewers', color='steelblue')\n",
    "    ax4.axvline(top_reviewer_ratings.mean(), color='red', linestyle='--', linewidth=2, \n",
    "                label=f'Mean: {top_reviewer_ratings.mean():.2f}')\n",
    "    \n",
    "    ax4.set_xlabel('Average Rating Given')\n",
    "    ax4.set_ylabel('Number of Reviewers')\n",
    "    ax4.set_title('Rating Distribution of Top 100 Reviewers', fontsize=14, fontweight='bold')\n",
    "    ax4.legend()\n",
    "    \n",
    "    plt.tight_layout()\n",
    "    plt.savefig('reviewer_analysis.png', dpi=300, bbox_inches='tight')\n",
    "    plt.show()"
   ]
  },
  {
   "cell_type": "code",
   "execution_count": 19,
   "id": "bc57ed87-87dc-43db-a0e8-cb1994695da6",
   "metadata": {
    "tags": []
   },
   "outputs": [
    {
     "name": "stdout",
     "output_type": "stream",
     "text": [
      "\n",
      "=== CREATING VISUALIZATIONS ===\n"
     ]
    },
    {
     "name": "stderr",
     "output_type": "stream",
     "text": [
      "                                                                                \r"
     ]
    },
    {
     "data": {
      "image/png": "[encoded data removed]",
      "text/plain": [
       "<Figure size 1600x1200 with 5 Axes>"
      ]
     },
     "metadata": {},
     "output_type": "display_data"
    }
   ],
   "source": [
    "create_reviewer_visualizations(reviewers_df, diversity_stats, top_reviewers)"
   ]
  },
  {
   "cell_type": "code",
   "execution_count": 20,
   "id": "a2caf79d-078c-4a7b-81dc-94f24b210f2d",
   "metadata": {
    "tags": []
   },
   "outputs": [],
   "source": [
    "def identify_suspicious_reviewers(reviewers_df):\n",
    "    \"\"\"Identify reviewers with potentially suspicious patterns\"\"\"\n",
    "    print(\"\\n=== SUSPICIOUS REVIEWER IDENTIFICATION ===\")\n",
    "    \n",
    "    # Define suspicious criteria\n",
    "    suspicious_conditions = (\n",
    "        # Extremely high review rate\n",
    "        (F.col(\"reviews_per_day\") > 5) |\n",
    "        # All reviews on same day\n",
    "        (F.col(\"review_span_days\") == 0) & (F.col(\"review_count\") > 10) |\n",
    "        # Single category focus with high volume\n",
    "        (F.col(\"category_count\") == 1) & (F.col(\"review_count\") > 50) |\n",
    "        # Extreme average ratings with high volume\n",
    "        ((F.col(\"avg_rating\") >= 4.9) | (F.col(\"avg_rating\") <= 1.1)) & (F.col(\"review_count\") > 20) |\n",
    "        # Low verified purchase rate with high volume\n",
    "        (F.col(\"verified_purchase_rate\") < 0.1) & (F.col(\"review_count\") > 30)\n",
    "    )\n",
    "    \n",
    "    suspicious_reviewers = reviewers_df.filter(suspicious_conditions).withColumn(\n",
    "        \"suspicion_reasons\",\n",
    "        F.concat_ws(\"; \",\n",
    "            F.when(F.col(\"reviews_per_day\") > 5, F.lit(\"High review rate\")),\n",
    "            F.when((F.col(\"review_span_days\") == 0) & (F.col(\"review_count\") > 10), \n",
    "                   F.lit(\"All reviews same day\")),\n",
    "            F.when((F.col(\"category_count\") == 1) & (F.col(\"review_count\") > 50), \n",
    "                   F.lit(\"Single category focus\")),\n",
    "            F.when(((F.col(\"avg_rating\") >= 4.9) | (F.col(\"avg_rating\") <= 1.1)) & \n",
    "                   (F.col(\"review_count\") > 20), F.lit(\"Extreme ratings\")),\n",
    "            F.when((F.col(\"verified_purchase_rate\") < 0.1) & (F.col(\"review_count\") > 30), \n",
    "                   F.lit(\"Low verified rate\"))\n",
    "        )\n",
    "    )\n",
    "    \n",
    "    suspicious_count = suspicious_reviewers.count()\n",
    "    total_count = reviewers_df.count()\n",
    "    \n",
    "    print(f\"\\nSuspicious Reviewers: {suspicious_count:,} out of {total_count:,} ({suspicious_count/total_count:.2%})\")\n",
    "    \n",
    "    # Show top suspicious reviewers\n",
    "    print(\"\\n=== Top 10 Most Suspicious Reviewers ===\")\n",
    "    top_suspicious = suspicious_reviewers.orderBy(F.col(\"review_count\").desc()).limit(10).collect()\n",
    "    \n",
    "    for i, row in enumerate(top_suspicious, 1):\n",
    "        print(f\"\\n{i}. User ID: {row['user_id']}\")\n",
    "        print(f\"   Reviews: {row['review_count']}\")\n",
    "        print(f\"   Rate: {row['reviews_per_day']:.1f}/day\")\n",
    "        print(f\"   Categories: {row['category_count']}\")\n",
    "        print(f\"   Avg Rating: {row['avg_rating']:.2f}\")\n",
    "        print(f\"   Verified: {row['verified_purchase_rate']:.1%}\")\n",
    "        print(f\"   Reasons: {row['suspicion_reasons']}\")\n",
    "    \n",
    "    return suspicious_reviewers"
   ]
  },
  {
   "cell_type": "code",
   "execution_count": 21,
   "id": "6e3ae434-9988-4839-84b5-667bd7266ec0",
   "metadata": {
    "tags": []
   },
   "outputs": [
    {
     "name": "stdout",
     "output_type": "stream",
     "text": [
      "\n",
      "=== SUSPICIOUS REVIEWER IDENTIFICATION ===\n"
     ]
    },
    {
     "name": "stderr",
     "output_type": "stream",
     "text": [
      "                                                                                \r"
     ]
    },
    {
     "name": "stdout",
     "output_type": "stream",
     "text": [
      "\n",
      "Suspicious Reviewers: 630 out of 4,775,391 (0.01%)\n",
      "\n",
      "=== Top 10 Most Suspicious Reviewers ===\n"
     ]
    },
    {
     "name": "stderr",
     "output_type": "stream",
     "text": [
      "[Stage 187:==============================================>     (889 + 8) / 1000]\r"
     ]
    },
    {
     "name": "stdout",
     "output_type": "stream",
     "text": [
      "\n",
      "1. User ID: AG73BVBKUOH22USSFJA5ZWL7AKXA\n",
      "   Reviews: 382\n",
      "   Rate: 0.1/day\n",
      "   Categories: 13\n",
      "   Avg Rating: 4.49\n",
      "   Verified: 6.8%\n",
      "   Reasons: Low verified rate\n",
      "\n",
      "2. User ID: AGZUJTI7A3JFKB4FP5JOH6NVAJIQ_1\n",
      "   Reviews: 243\n",
      "   Rate: 0.2/day\n",
      "   Categories: 8\n",
      "   Avg Rating: 4.69\n",
      "   Verified: 1.2%\n",
      "   Reasons: Low verified rate\n",
      "\n",
      "3. User ID: AEMP3A7IKW37CMWFXNKXWW6HGJHA_1\n",
      "   Reviews: 231\n",
      "   Rate: 0.2/day\n",
      "   Categories: 7\n",
      "   Avg Rating: 4.10\n",
      "   Verified: 2.2%\n",
      "   Reasons: Low verified rate\n",
      "\n",
      "4. User ID: AH2DN3Q2OKAW7JAFRIYPHOUOM2ZQ\n",
      "   Reviews: 209\n",
      "   Rate: 0.2/day\n",
      "   Categories: 5\n",
      "   Avg Rating: 4.46\n",
      "   Verified: 0.5%\n",
      "   Reasons: Low verified rate\n",
      "\n",
      "5. User ID: AFXF3EGQTQDXMRLDWFU7UBFQZB7Q\n",
      "   Reviews: 204\n",
      "   Rate: 0.1/day\n",
      "   Categories: 10\n",
      "   Avg Rating: 3.69\n",
      "   Verified: 0.5%\n",
      "   Reasons: Low verified rate\n",
      "\n",
      "6. User ID: AEZP6Z2C5AVQDZAJECQYZWQRNG3Q\n",
      "   Reviews: 176\n",
      "   Rate: 0.1/day\n",
      "   Categories: 7\n",
      "   Avg Rating: 4.21\n",
      "   Verified: 0.0%\n",
      "   Reasons: Low verified rate\n",
      "\n",
      "7. User ID: AFF6DS6NOWRIF2AROFASUVVOPYLA\n",
      "   Reviews: 163\n",
      "   Rate: 0.4/day\n",
      "   Categories: 4\n",
      "   Avg Rating: 4.77\n",
      "   Verified: 0.0%\n",
      "   Reasons: Low verified rate\n",
      "\n",
      "8. User ID: AEAXAJACFMXIAAH4WOHRMXPSZWFA\n",
      "   Reviews: 162\n",
      "   Rate: 0.0/day\n",
      "   Categories: 9\n",
      "   Avg Rating: 4.77\n",
      "   Verified: 3.1%\n",
      "   Reasons: Low verified rate\n",
      "\n",
      "9. User ID: AGYVC7KVHP2AWM7BDCEYNHFA6F3Q\n",
      "   Reviews: 157\n",
      "   Rate: 0.1/day\n",
      "   Categories: 9\n",
      "   Avg Rating: 4.52\n",
      "   Verified: 0.6%\n",
      "   Reasons: Low verified rate\n",
      "\n",
      "10. User ID: AHV6QCNBJNSGLATP56JAWJ3C4G2A\n",
      "   Reviews: 144\n",
      "   Rate: 0.0/day\n",
      "   Categories: 9\n",
      "   Avg Rating: 4.28\n",
      "   Verified: 6.9%\n",
      "   Reasons: Low verified rate\n"
     ]
    },
    {
     "name": "stderr",
     "output_type": "stream",
     "text": [
      "                                                                                \r"
     ]
    }
   ],
   "source": [
    "suspicious_reviewers = identify_suspicious_reviewers(reviewers_df)"
   ]
  },
  {
   "cell_type": "code",
   "execution_count": 22,
   "id": "6c22e535-c022-40b9-a96a-67a01a8b9198",
   "metadata": {
    "tags": []
   },
   "outputs": [
    {
     "name": "stdout",
     "output_type": "stream",
     "text": [
      "\n",
      "Saving reviewer aggregates to: gs://msca-bdp-students-bucket/shared_data/apavlovic/final_project/reviewers_aggregated\n"
     ]
    },
    {
     "name": "stderr",
     "output_type": "stream",
     "text": [
      "                                                                                \r"
     ]
    }
   ],
   "source": [
    "output_path = \"gs://msca-bdp-students-bucket/shared_data/apavlovic/final_project/reviewers_aggregated\"\n",
    "print(f\"\\nSaving reviewer aggregates to: {output_path}\")\n",
    "\n",
    "reviewers_df.select(\n",
    "    \"user_id\", \"review_count\", \"avg_rating\", \"unique_products\", \n",
    "    \"category_count\", \"review_span_days\", \"reviews_per_day\",\n",
    "    \"verified_purchase_rate\", \"activity_level\"\n",
    ").write.mode(\"overwrite\").parquet(output_path)"
   ]
  },
  {
   "cell_type": "code",
   "execution_count": 23,
   "id": "9f6d82e1-502d-484e-b346-c05c08c4e13e",
   "metadata": {
    "tags": []
   },
   "outputs": [
    {
     "name": "stdout",
     "output_type": "stream",
     "text": [
      "Saving suspicious reviewers to: gs://msca-bdp-students-bucket/shared_data/apavlovic/final_project/suspicious_reviewers\n"
     ]
    },
    {
     "name": "stderr",
     "output_type": "stream",
     "text": [
      "                                                                                \r"
     ]
    }
   ],
   "source": [
    "suspicious_path = \"gs://msca-bdp-students-bucket/shared_data/apavlovic/final_project/suspicious_reviewers\"\n",
    "print(f\"Saving suspicious reviewers to: {suspicious_path}\")\n",
    "\n",
    "suspicious_reviewers.select(\n",
    "    \"user_id\", \"review_count\", \"reviews_per_day\", \"category_count\",\n",
    "    \"avg_rating\", \"verified_purchase_rate\", \"suspicion_reasons\"\n",
    ").write.mode(\"overwrite\").parquet(suspicious_path)"
   ]
  },
  {
   "cell_type": "code",
   "execution_count": null,
   "id": "ee937140-e2aa-473e-948b-7261298de146",
   "metadata": {},
   "outputs": [],
   "source": [
    "print(\"Data saved successfully!\")"
   ]
  },
  {
   "cell_type": "code",
   "execution_count": null,
   "id": "891c3b41-c6ad-4601-9bd4-ea869239f8e9",
   "metadata": {},
   "outputs": [],
   "source": [
    "print(\"\\n\" + \"=\"*80)\n",
    "print(\"=== REVIEWER ANALYSIS SUMMARY ===\")\n",
    "print(\"=\"*80)\n",
    "\n",
    "print(\"\\n1. ACTIVITY PATTERNS:\")\n",
    "print(\"   - Most reviewers (>90%) write fewer than 10 reviews\")\n",
    "print(\"   - A small percentage (<1%) are hyperactive with 100+ reviews\")\n",
    "print(\"   - Top reviewers can have thousands of reviews\")\n",
    "\n",
    "print(\"\\n2. CATEGORY DIVERSITY:\")\n",
    "print(\"   - Active reviewers typically cover more categories\")\n",
    "print(\"   - Some top reviewers focus on single categories (suspicious)\")\n",
    "print(\"   - Average diversity increases with activity level\")\n",
    "\n",
    "print(\"\\n3. TEMPORAL PATTERNS:\")\n",
    "print(\"   - Some reviewers show burst patterns (many reviews in one day)\")\n",
    "print(\"   - Others maintain consistent review schedules\")\n",
    "print(\"   - Suspicious patterns include all reviews on same day\")\n",
    "\n",
    "print(\"\\n4. SUSPICIOUS INDICATORS:\")\n",
    "print(\"   - High review rates (>5/day)\")\n",
    "print(\"   - Single category focus with high volume\")\n",
    "print(\"   - Extreme average ratings\")\n",
    "print(\"   - Low verified purchase rates\")\n",
    "\n",
    "print(\"\\n5. IMPLICATIONS FOR AI DETECTION:\")\n",
    "print(\"   - Bot accounts likely show consistent patterns\")\n",
    "print(\"   - Human reviewers have more varied temporal patterns\")\n",
    "print(\"   - Category diversity is a key authenticity indicator\")\n",
    "print(\"   - Verified purchase rate helps validate legitimacy\")"
   ]
  }
 ],
 "metadata": {
  "environment": {
   "kernel": "9c39b79e5d2e7072beb4bd59-runtime-000091a417d9",
   "name": "workbench-notebooks.m129",
   "type": "gcloud",
   "uri": "us-docker.pkg.dev/deeplearning-platform-release/gcr.io/workbench-notebooks:m129"
  },
  "kernelspec": {
   "display_name": "bdp-student-template on Serverless Spark (Remote)",
   "language": "python",
   "name": "9c39b79e5d2e7072beb4bd59-runtime-000091a417d9"
  },
  "language_info": {
   "codemirror_mode": {
    "name": "ipython",
    "version": 3
   },
   "file_extension": ".py",
   "mimetype": "text/x-python",
   "name": "python",
   "nbconvert_exporter": "python",
   "pygments_lexer": "ipython3",
   "version": "3.12.3"
  }
 },
 "nbformat": 4,
 "nbformat_minor": 5
}
