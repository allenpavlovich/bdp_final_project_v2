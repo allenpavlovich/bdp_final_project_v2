{
 "cells": [
  {
   "cell_type": "markdown",
   "id": "df180e90-bfd4-4368-9016-5352c659c456",
   "metadata": {},
   "source": [
    "# Big Data and Cloud Computing - Final Project\n",
    "\n",
    "## Data cleaning and exploratory analysis\n",
    "\n",
    "### Author:\n",
    "Alen Pavlovic\n",
    "\n",
    "The University of Chicago"
   ]
  },
  {
   "cell_type": "code",
   "execution_count": 1,
   "id": "e87a0c2c-50bc-4ec8-9e28-84d0aef3cbb8",
   "metadata": {
    "tags": []
   },
   "outputs": [
    {
     "data": {
      "text/plain": [
       "-8"
      ]
     },
     "execution_count": 1,
     "metadata": {},
     "output_type": "execute_result"
    }
   ],
   "source": [
    "2*3-14"
   ]
  },
  {
   "cell_type": "code",
   "execution_count": 2,
   "id": "57be21a3-e35d-4291-9e7f-c130811d0e6b",
   "metadata": {
    "tags": []
   },
   "outputs": [],
   "source": [
    "import os\n",
    "import pandas as pd\n",
    "import numpy as np\n",
    "import matplotlib.pyplot as plt\n",
    "import seaborn as sns\n",
    "from pyspark.sql import functions as F\n",
    "from pyspark.sql.window import Window"
   ]
  },
  {
   "cell_type": "code",
   "execution_count": 3,
   "id": "6ad7e6c1-a481-49c9-aa17-b55a63bf0fc5",
   "metadata": {
    "tags": []
   },
   "outputs": [],
   "source": [
    "pd.set_option('display.max_rows', 100)\n",
    "plt.style.use('seaborn-v0_8-whitegrid')\n",
    "plt.rcParams['figure.figsize'] = (12, 6)\n",
    "spark.conf.set(\"spark.sql.repl.eagerEval.enabled\", True)\n",
    "spark.conf.set(\"spark.sql.repl.eagerEval.maxNumRows\", 20)"
   ]
  },
  {
   "cell_type": "code",
   "execution_count": 4,
   "id": "53a5a78b-fd43-4422-bf9f-eb6e3ec7879b",
   "metadata": {
    "tags": []
   },
   "outputs": [],
   "source": [
    "intermediate_bucket = 'gs://msca-bdp-students-bucket/shared_data/apavlovic/final_project'\n",
    "USE_DEV = True  # Use 10% sample for faster processing"
   ]
  },
  {
   "cell_type": "code",
   "execution_count": 5,
   "id": "86869663-b2af-419a-bea0-41354c2642c7",
   "metadata": {
    "tags": []
   },
   "outputs": [],
   "source": [
    "def load_data(use_dev=True):\n",
    "    \"\"\"Load reviews and metadata\"\"\"\n",
    "    if use_dev:\n",
    "        reviews_df = spark.read.parquet(f\"{intermediate_bucket}/reviews_dev\")\n",
    "        meta_df = spark.read.parquet(f\"{intermediate_bucket}/meta_dev\")\n",
    "        print(\"Using 10% development dataset\")\n",
    "    else:\n",
    "        reviews_df = spark.read.parquet(f\"{intermediate_bucket}/reviews_processed\")\n",
    "        meta_df = spark.read.parquet(f\"{intermediate_bucket}/meta_processed\")\n",
    "        print(\"Using full dataset\")\n",
    "    \n",
    "    print(f\"Reviews loaded: {reviews_df.count():,}\")\n",
    "    print(f\"Products loaded: {meta_df.count():,}\")\n",
    "    \n",
    "    # Show schema to understand variables\n",
    "    print(\"\\nReview schema:\")\n",
    "    reviews_df.printSchema()\n",
    "    print(\"\\nMetadata schema:\")\n",
    "    meta_df.printSchema()\n",
    "    \n",
    "    return reviews_df, meta_df"
   ]
  },
  {
   "cell_type": "code",
   "execution_count": 6,
   "id": "8ea8e874-800d-4874-aa23-a08929b338c7",
   "metadata": {
    "tags": []
   },
   "outputs": [
    {
     "name": "stderr",
     "output_type": "stream",
     "text": [
      "                                                                                \r"
     ]
    },
    {
     "name": "stdout",
     "output_type": "stream",
     "text": [
      "Using 10% development dataset\n"
     ]
    },
    {
     "name": "stderr",
     "output_type": "stream",
     "text": [
      "                                                                                \r"
     ]
    },
    {
     "name": "stdout",
     "output_type": "stream",
     "text": [
      "Reviews loaded: 6,468,523\n"
     ]
    },
    {
     "name": "stderr",
     "output_type": "stream",
     "text": [
      "[Stage 5:==============================================>           (8 + 2) / 10]\r"
     ]
    },
    {
     "name": "stdout",
     "output_type": "stream",
     "text": [
      "Products loaded: 1,424,997\n",
      "\n",
      "Review schema:\n",
      "root\n",
      " |-- asin: string (nullable = true)\n",
      " |-- helpful_vote: long (nullable = true)\n",
      " |-- parent_asin: string (nullable = true)\n",
      " |-- rating: double (nullable = true)\n",
      " |-- text: string (nullable = true)\n",
      " |-- timestamp: long (nullable = true)\n",
      " |-- title: string (nullable = true)\n",
      " |-- user_id: string (nullable = true)\n",
      " |-- verified_purchase: boolean (nullable = true)\n",
      " |-- review_date: date (nullable = true)\n",
      " |-- review_year: integer (nullable = true)\n",
      " |-- review_month: integer (nullable = true)\n",
      "\n",
      "\n",
      "Metadata schema:\n",
      "root\n",
      " |-- parent_asin: string (nullable = true)\n",
      " |-- author: struct (nullable = true)\n",
      " |    |-- about: array (nullable = true)\n",
      " |    |    |-- element: string (containsNull = true)\n",
      " |    |-- avatar: string (nullable = true)\n",
      " |    |-- name: string (nullable = true)\n",
      " |-- average_rating: double (nullable = true)\n",
      " |-- bought_together: string (nullable = true)\n",
      " |-- categories: array (nullable = true)\n",
      " |    |-- element: string (containsNull = true)\n",
      " |-- description: array (nullable = true)\n",
      " |    |-- element: string (containsNull = true)\n",
      " |-- main_category: string (nullable = true)\n",
      " |-- price: string (nullable = true)\n",
      " |-- rating_number: long (nullable = true)\n",
      " |-- store: string (nullable = true)\n",
      " |-- subtitle: string (nullable = true)\n",
      " |-- title: string (nullable = true)\n",
      " |-- price_clean: float (nullable = true)\n",
      "\n"
     ]
    },
    {
     "name": "stderr",
     "output_type": "stream",
     "text": [
      "                                                                                \r"
     ]
    }
   ],
   "source": [
    "reviews_df, meta_df = load_data(USE_DEV)"
   ]
  },
  {
   "cell_type": "code",
   "execution_count": 7,
   "id": "9a122ef8-8c84-4e8e-992d-689bb677c1af",
   "metadata": {
    "tags": []
   },
   "outputs": [],
   "source": [
    "def analyze_variable_quality(reviews_df, meta_df):\n",
    "    \"\"\"Analyze which variables to keep or discard\"\"\"\n",
    "    print(\"=== VARIABLE QUALITY ANALYSIS ===\")\n",
    "    \n",
    "    # Check null counts in reviews\n",
    "    print(\"\\nReviews - Null counts:\")\n",
    "    null_counts = reviews_df.select([\n",
    "        F.sum(F.col(c).isNull().cast(\"int\")).alias(c) \n",
    "        for c in reviews_df.columns\n",
    "    ]).collect()[0]\n",
    "    \n",
    "    total_reviews = reviews_df.count()\n",
    "    for col, null_count in null_counts.asDict().items():\n",
    "        pct = (null_count / total_reviews) * 100\n",
    "        print(f\"  {col}: {null_count:,} ({pct:.1f}%)\")\n",
    "        if pct > 50:\n",
    "            print(f\"    → Consider dropping {col} (>50% null)\")\n",
    "    \n",
    "    # Check null counts in metadata\n",
    "    print(\"\\nMetadata - Null counts:\")\n",
    "    meta_null_counts = meta_df.select([\n",
    "        F.sum(F.col(c).isNull().cast(\"int\")).alias(c) \n",
    "        for c in meta_df.columns\n",
    "    ]).collect()[0]\n",
    "    \n",
    "    total_products = meta_df.count()\n",
    "    for col, null_count in meta_null_counts.asDict().items():\n",
    "        pct = (null_count / total_products) * 100\n",
    "        print(f\"  {col}: {null_count:,} ({pct:.1f}%)\")\n",
    "    \n",
    "    # Check for duplicate columns (same data)\n",
    "    print(\"\\nChecking for potential duplicate data...\")\n",
    "    \n",
    "    # Sample to check if asin and parent_asin are mostly the same\n",
    "    same_asin = reviews_df.filter(F.col(\"asin\") == F.col(\"parent_asin\")).count()\n",
    "    print(f\"Reviews where asin == parent_asin: {same_asin:,} ({same_asin/total_reviews*100:.1f}%)\")\n",
    "    \n",
    "    return null_counts, meta_null_counts"
   ]
  },
  {
   "cell_type": "code",
   "execution_count": 8,
   "id": "dafd810c-6996-45c8-a39d-aba0da1ea962",
   "metadata": {
    "tags": []
   },
   "outputs": [
    {
     "name": "stdout",
     "output_type": "stream",
     "text": [
      "=== VARIABLE QUALITY ANALYSIS ===\n",
      "\n",
      "Reviews - Null counts:\n"
     ]
    },
    {
     "name": "stderr",
     "output_type": "stream",
     "text": [
      "                                                                                \r"
     ]
    },
    {
     "name": "stdout",
     "output_type": "stream",
     "text": [
      "  asin: 0 (0.0%)\n",
      "  helpful_vote: 0 (0.0%)\n",
      "  parent_asin: 0 (0.0%)\n",
      "  rating: 0 (0.0%)\n",
      "  text: 0 (0.0%)\n",
      "  timestamp: 0 (0.0%)\n",
      "  title: 0 (0.0%)\n",
      "  user_id: 0 (0.0%)\n",
      "  verified_purchase: 0 (0.0%)\n",
      "  review_date: 0 (0.0%)\n",
      "  review_year: 0 (0.0%)\n",
      "  review_month: 0 (0.0%)\n",
      "\n",
      "Metadata - Null counts:\n"
     ]
    },
    {
     "name": "stderr",
     "output_type": "stream",
     "text": [
      "                                                                                \r"
     ]
    },
    {
     "name": "stdout",
     "output_type": "stream",
     "text": [
      "  parent_asin: 0 (0.0%)\n",
      "  author: 1,424,956 (100.0%)\n",
      "  average_rating: 0 (0.0%)\n",
      "  bought_together: 1,424,997 (100.0%)\n",
      "  categories: 0 (0.0%)\n",
      "  description: 0 (0.0%)\n",
      "  main_category: 46,584 (3.3%)\n",
      "  price: 738,870 (51.9%)\n",
      "  rating_number: 0 (0.0%)\n",
      "  store: 31,358 (2.2%)\n",
      "  subtitle: 1,424,357 (100.0%)\n",
      "  title: 0 (0.0%)\n",
      "  price_clean: 739,435 (51.9%)\n",
      "\n",
      "Checking for potential duplicate data...\n"
     ]
    },
    {
     "name": "stderr",
     "output_type": "stream",
     "text": [
      "[Stage 20:=======================================>                 (7 + 3) / 10]\r"
     ]
    },
    {
     "name": "stdout",
     "output_type": "stream",
     "text": [
      "Reviews where asin == parent_asin: 3,724,857 (57.6%)\n"
     ]
    },
    {
     "name": "stderr",
     "output_type": "stream",
     "text": [
      "                                                                                \r"
     ]
    }
   ],
   "source": [
    "null_counts, meta_null_counts = analyze_variable_quality(reviews_df, meta_df)"
   ]
  },
  {
   "cell_type": "code",
   "execution_count": 9,
   "id": "92233559-7a51-4d99-8dc7-8b3319451790",
   "metadata": {
    "tags": []
   },
   "outputs": [],
   "source": [
    "def check_data_quality(reviews_df):\n",
    "    \"\"\"Check for erroneous or suspicious data\"\"\"\n",
    "    print(\"=== DATA QUALITY CHECKS ===\")\n",
    "    \n",
    "    # Add text lengths\n",
    "    reviews_df = reviews_df.withColumn(\"text_length\", F.length(\"text\")) \\\n",
    "                          .withColumn(\"title_length\", F.length(\"title\"))\n",
    "    \n",
    "    # Check text quality\n",
    "    print(\"\\nText quality issues:\")\n",
    "    empty_text = reviews_df.filter((F.col(\"text\").isNull()) | (F.col(\"text\") == \"\")).count()\n",
    "    short_text = reviews_df.filter(F.col(\"text_length\") < 10).count()\n",
    "    very_long_text = reviews_df.filter(F.col(\"text_length\") > 20000).count()\n",
    "    \n",
    "    print(f\"  Empty text: {empty_text:,}\")\n",
    "    print(f\"  Very short (<10 chars): {short_text:,}\")\n",
    "    print(f\"  Extremely long (>20K chars): {very_long_text:,}\")\n",
    "    \n",
    "    # Check ratings\n",
    "    print(\"\\nRating distribution:\")\n",
    "    reviews_df.groupBy(\"rating\").count().orderBy(\"rating\").show()\n",
    "    \n",
    "    invalid_ratings = reviews_df.filter((F.col(\"rating\") < 1) | (F.col(\"rating\") > 5)).count()\n",
    "    print(f\"  Invalid ratings: {invalid_ratings}\")\n",
    "    \n",
    "    # Check timestamps\n",
    "    print(\"\\nTimestamp analysis:\")\n",
    "    reviews_df_ts = reviews_df.withColumn(\n",
    "        \"timestamp_converted\", F.from_unixtime(F.col(\"timestamp\")/1000)\n",
    "    ).withColumn(\"year\", F.year(\"timestamp_converted\"))\n",
    "    \n",
    "    year_range = reviews_df_ts.select(\n",
    "        F.min(\"year\").alias(\"min_year\"),\n",
    "        F.max(\"year\").alias(\"max_year\")\n",
    "    ).collect()[0]\n",
    "    \n",
    "    print(f\"  Year range: {year_range['min_year']} - {year_range['max_year']}\")\n",
    "    \n",
    "    # Check for future dates or very old dates\n",
    "    suspicious_dates = reviews_df_ts.filter(\n",
    "        (F.col(\"year\") < 1995) | (F.col(\"year\") > 2023)\n",
    "    ).count()\n",
    "    print(f\"  Suspicious dates: {suspicious_dates}\")\n",
    "    \n",
    "    return reviews_df"
   ]
  },
  {
   "cell_type": "code",
   "execution_count": 10,
   "id": "7b721df6-53bf-4373-aa50-bf1cf7179df3",
   "metadata": {
    "tags": []
   },
   "outputs": [
    {
     "name": "stdout",
     "output_type": "stream",
     "text": [
      "=== DATA QUALITY CHECKS ===\n",
      "\n",
      "Text quality issues:\n"
     ]
    },
    {
     "name": "stderr",
     "output_type": "stream",
     "text": [
      "                                                                                \r"
     ]
    },
    {
     "name": "stdout",
     "output_type": "stream",
     "text": [
      "  Empty text: 572\n",
      "  Very short (<10 chars): 276,667\n",
      "  Extremely long (>20K chars): 4\n",
      "\n",
      "Rating distribution:\n"
     ]
    },
    {
     "name": "stderr",
     "output_type": "stream",
     "text": [
      "                                                                                \r"
     ]
    },
    {
     "name": "stdout",
     "output_type": "stream",
     "text": [
      "+------+-------+\n",
      "|rating|  count|\n",
      "+------+-------+\n",
      "|   1.0| 793392|\n",
      "|   2.0| 337639|\n",
      "|   3.0| 445097|\n",
      "|   4.0| 724511|\n",
      "|   5.0|4167884|\n",
      "+------+-------+\n",
      "\n",
      "  Invalid ratings: 0\n",
      "\n",
      "Timestamp analysis:\n"
     ]
    },
    {
     "name": "stderr",
     "output_type": "stream",
     "text": [
      "                                                                                \r"
     ]
    },
    {
     "name": "stdout",
     "output_type": "stream",
     "text": [
      "  Year range: 1998 - 2023\n"
     ]
    },
    {
     "name": "stderr",
     "output_type": "stream",
     "text": [
      "[Stage 41:=============================================>           (8 + 2) / 10]\r"
     ]
    },
    {
     "name": "stdout",
     "output_type": "stream",
     "text": [
      "  Suspicious dates: 0\n"
     ]
    },
    {
     "name": "stderr",
     "output_type": "stream",
     "text": [
      "                                                                                \r"
     ]
    }
   ],
   "source": [
    "reviews_df = check_data_quality(reviews_df)"
   ]
  },
  {
   "cell_type": "code",
   "execution_count": 11,
   "id": "f77b81d0-12fe-43ba-b861-b801b7d9f91d",
   "metadata": {
    "tags": []
   },
   "outputs": [],
   "source": [
    "def analyze_timeline_for_eda(reviews_df):\n",
    "    \"\"\"Analyze timeline for gaps, peaks, and outliers\"\"\"\n",
    "    print(\"=== TIMELINE ANALYSIS FOR EDA ===\")\n",
    "    \n",
    "    # Convert timestamp if not already done\n",
    "    if \"year\" not in reviews_df.columns:\n",
    "        reviews_df = reviews_df.withColumn(\n",
    "            \"timestamp_converted\", F.from_unixtime(F.col(\"timestamp\")/1000)\n",
    "        ).withColumn(\"year\", F.year(\"timestamp_converted\")) \\\n",
    "         .withColumn(\"month\", F.month(\"timestamp_converted\")) \\\n",
    "         .withColumn(\"year_month\", F.date_format(\"timestamp_converted\", \"yyyy-MM\"))\n",
    "    \n",
    "    # Yearly overview\n",
    "    yearly_counts = reviews_df.groupBy(\"year\").count().orderBy(\"year\")\n",
    "    yearly_df = yearly_counts.toPandas()\n",
    "    \n",
    "    print(\"\\nYearly review counts:\")\n",
    "    print(yearly_df)\n",
    "    \n",
    "    # Identify outliers using IQR method\n",
    "    Q1 = yearly_df['count'].quantile(0.25)\n",
    "    Q3 = yearly_df['count'].quantile(0.75)\n",
    "    IQR = Q3 - Q1\n",
    "    outlier_threshold_low = Q1 - 1.5 * IQR\n",
    "    outlier_threshold_high = Q3 + 1.5 * IQR\n",
    "    \n",
    "    outliers = yearly_df[(yearly_df['count'] < outlier_threshold_low) | \n",
    "                         (yearly_df['count'] > outlier_threshold_high)]\n",
    "    \n",
    "    print(f\"\\nOutlier years (IQR method):\")\n",
    "    print(outliers)\n",
    "    \n",
    "    # Monthly analysis for gaps\n",
    "    monthly_counts = reviews_df.groupBy(\"year_month\").count().orderBy(\"year_month\")\n",
    "    monthly_stats = monthly_counts.select(\n",
    "        F.avg(\"count\").alias(\"avg\"),\n",
    "        F.stddev(\"count\").alias(\"std\")\n",
    "    ).collect()[0]\n",
    "    \n",
    "    # Find gaps (months with very low counts)\n",
    "    gap_threshold = monthly_stats['avg'] - (2 * monthly_stats['std'])\n",
    "    gaps = monthly_counts.filter(F.col(\"count\") < gap_threshold).orderBy(\"year_month\")\n",
    "    \n",
    "    print(f\"\\nData collection gaps (months with < {gap_threshold:.0f} reviews):\")\n",
    "    gaps.show(20)\n",
    "    \n",
    "    # Find spikes\n",
    "    spike_threshold = monthly_stats['avg'] + (2 * monthly_stats['std'])\n",
    "    spikes = monthly_counts.filter(F.col(\"count\") > spike_threshold).orderBy(F.desc(\"count\"))\n",
    "    \n",
    "    print(f\"\\nMajor spikes (months with > {spike_threshold:.0f} reviews):\")\n",
    "    spikes.show(10)\n",
    "    \n",
    "    # Check for specific events (e.g., Black Friday, Prime Day)\n",
    "    november_spikes = spikes.filter(F.col(\"year_month\").like(\"%-11\")).count()\n",
    "    july_spikes = spikes.filter(F.col(\"year_month\").like(\"%-07\")).count()\n",
    "    \n",
    "    print(f\"\\nPotential event-driven spikes:\")\n",
    "    print(f\"  November (Black Friday): {november_spikes} spike months\")\n",
    "    print(f\"  July (Prime Day): {july_spikes} spike months\")\n",
    "    \n",
    "    return reviews_df, yearly_counts, monthly_counts"
   ]
  },
  {
   "cell_type": "code",
   "execution_count": 12,
   "id": "2379229a-9965-45e5-9dc3-97299805ff63",
   "metadata": {
    "tags": []
   },
   "outputs": [
    {
     "name": "stdout",
     "output_type": "stream",
     "text": [
      "=== TIMELINE ANALYSIS FOR EDA ===\n"
     ]
    },
    {
     "name": "stderr",
     "output_type": "stream",
     "text": [
      "                                                                                \r"
     ]
    },
    {
     "name": "stdout",
     "output_type": "stream",
     "text": [
      "\n",
      "Yearly review counts:\n",
      "    year   count\n",
      "0   1998       2\n",
      "1   1999       1\n",
      "2   2000      17\n",
      "3   2001      21\n",
      "4   2002      43\n",
      "5   2003      68\n",
      "6   2004     210\n",
      "7   2005     508\n",
      "8   2006     758\n",
      "9   2007    1933\n",
      "10  2008    3045\n",
      "11  2009    4912\n",
      "12  2010   10529\n",
      "13  2011   23617\n",
      "14  2012   52476\n",
      "15  2013  146723\n",
      "16  2014  258172\n",
      "17  2015  417540\n",
      "18  2016  499565\n",
      "19  2017  517776\n",
      "20  2018  575468\n",
      "21  2019  827864\n",
      "22  2020  907189\n",
      "23  2021  960982\n",
      "24  2022  880643\n",
      "25  2023  378461\n",
      "\n",
      "Outlier years (IQR method):\n",
      "Empty DataFrame\n",
      "Columns: [year, count]\n",
      "Index: []\n"
     ]
    },
    {
     "name": "stderr",
     "output_type": "stream",
     "text": [
      "                                                                                \r"
     ]
    },
    {
     "name": "stdout",
     "output_type": "stream",
     "text": [
      "\n",
      "Data collection gaps (months with < -36095 reviews):\n"
     ]
    },
    {
     "name": "stderr",
     "output_type": "stream",
     "text": [
      "                                                                                \r"
     ]
    },
    {
     "name": "stdout",
     "output_type": "stream",
     "text": [
      "+----------+-----+\n",
      "|year_month|count|\n",
      "+----------+-----+\n",
      "+----------+-----+\n",
      "\n",
      "\n",
      "Major spikes (months with > 81648 reviews):\n"
     ]
    },
    {
     "name": "stderr",
     "output_type": "stream",
     "text": [
      "                                                                                \r"
     ]
    },
    {
     "name": "stdout",
     "output_type": "stream",
     "text": [
      "+----------+------+\n",
      "|year_month| count|\n",
      "+----------+------+\n",
      "|   2020-01|107191|\n",
      "|   2019-12|102686|\n",
      "|   2021-03|101300|\n",
      "|   2021-04| 97363|\n",
      "|   2020-02| 88645|\n",
      "|   2021-07| 87702|\n",
      "|   2019-07| 87682|\n",
      "|   2021-01| 87591|\n",
      "|   2021-05| 87551|\n",
      "|   2023-03| 86306|\n",
      "+----------+------+\n",
      "only showing top 10 rows\n",
      "\n"
     ]
    },
    {
     "name": "stderr",
     "output_type": "stream",
     "text": [
      "[Stage 76:=============================================>           (8 + 2) / 10]\r"
     ]
    },
    {
     "name": "stdout",
     "output_type": "stream",
     "text": [
      "\n",
      "Potential event-driven spikes:\n",
      "  November (Black Friday): 0 spike months\n",
      "  July (Prime Day): 2 spike months\n"
     ]
    },
    {
     "name": "stderr",
     "output_type": "stream",
     "text": [
      "                                                                                \r"
     ]
    }
   ],
   "source": [
    "reviews_df, yearly_counts, monthly_counts = analyze_timeline_for_eda(reviews_df)"
   ]
  },
  {
   "cell_type": "code",
   "execution_count": 13,
   "id": "14673608-f772-4155-bc04-cab4a8715b99",
   "metadata": {
    "tags": []
   },
   "outputs": [],
   "source": [
    "def clean_data_remove_outliers(reviews_df, meta_df):\n",
    "    \"\"\"Remove obvious outliers and clean data\"\"\"\n",
    "    print(\"=== DATA CLEANING ===\")\n",
    "    \n",
    "    initial_count = reviews_df.count()\n",
    "    \n",
    "    # Remove reviews with invalid data\n",
    "    reviews_cleaned = reviews_df.filter(\n",
    "        (F.col(\"text\").isNotNull()) & \n",
    "        (F.col(\"text\") != \"\") &\n",
    "        (F.col(\"text_length\") >= 10) &  # Remove too short\n",
    "        (F.col(\"text_length\") <= 20000) &  # Remove too long\n",
    "        (F.col(\"rating\").between(1, 5)) &  # Valid ratings only\n",
    "        (F.col(\"year\").between(1996, 2023))  # Valid years only\n",
    "    )\n",
    "    \n",
    "    # Count high-volume users (potential bots)\n",
    "    user_counts = reviews_cleaned.groupBy(\"user_id\").count()\n",
    "    user_percentiles = user_counts.select(\n",
    "        F.expr(\"percentile_approx(count, 0.99)\").alias(\"p99\"),\n",
    "        F.expr(\"percentile_approx(count, 0.999)\").alias(\"p999\")\n",
    "    ).collect()[0]\n",
    "    \n",
    "    print(f\"\\nUser activity thresholds:\")\n",
    "    print(f\"  99th percentile: {user_percentiles['p99']} reviews\")\n",
    "    print(f\"  99.9th percentile: {user_percentiles['p999']} reviews\")\n",
    "    \n",
    "    # Flag but don't remove high-volume users yet\n",
    "    reviews_cleaned = reviews_cleaned.join(\n",
    "        user_counts.filter(F.col(\"count\") > user_percentiles['p99'])\n",
    "                   .select(\"user_id\")\n",
    "                   .withColumn(\"high_volume_user\", F.lit(True)),\n",
    "        on=\"user_id\",\n",
    "        how=\"left\"\n",
    "    ).fillna(False, subset=[\"high_volume_user\"])\n",
    "    \n",
    "    final_count = reviews_cleaned.count()\n",
    "    print(f\"\\nData cleaning results:\")\n",
    "    print(f\"  Initial reviews: {initial_count:,}\")\n",
    "    print(f\"  After cleaning: {final_count:,}\")\n",
    "    print(f\"  Removed: {initial_count - final_count:,} ({(initial_count-final_count)/initial_count*100:.1f}%)\")\n",
    "    \n",
    "    # Clean metadata - remove products with no valid price or category\n",
    "    meta_cleaned = meta_df.filter(\n",
    "        (F.col(\"main_category\").isNotNull()) &\n",
    "        (F.col(\"title\").isNotNull())\n",
    "    )\n",
    "    \n",
    "    print(f\"\\nMetadata cleaning:\")\n",
    "    print(f\"  Initial products: {meta_df.count():,}\")\n",
    "    print(f\"  After cleaning: {meta_cleaned.count():,}\")\n",
    "    \n",
    "    return reviews_cleaned, meta_cleaned, user_counts"
   ]
  },
  {
   "cell_type": "code",
   "execution_count": 14,
   "id": "327d1c17-f352-4cd7-afb2-69f41770f90b",
   "metadata": {
    "tags": []
   },
   "outputs": [
    {
     "name": "stdout",
     "output_type": "stream",
     "text": [
      "=== DATA CLEANING ===\n"
     ]
    },
    {
     "name": "stderr",
     "output_type": "stream",
     "text": [
      "                                                                                \r"
     ]
    },
    {
     "name": "stdout",
     "output_type": "stream",
     "text": [
      "\n",
      "User activity thresholds:\n",
      "  99th percentile: 5 reviews\n",
      "  99.9th percentile: 11 reviews\n"
     ]
    },
    {
     "name": "stderr",
     "output_type": "stream",
     "text": [
      "                                                                                \r"
     ]
    },
    {
     "name": "stdout",
     "output_type": "stream",
     "text": [
      "\n",
      "Data cleaning results:\n",
      "  Initial reviews: 6,468,523\n",
      "  After cleaning: 6,191,852\n",
      "  Removed: 276,671 (4.3%)\n",
      "\n",
      "Metadata cleaning:\n",
      "  Initial products: 1,424,997\n"
     ]
    },
    {
     "name": "stderr",
     "output_type": "stream",
     "text": [
      "[Stage 97:=======================================>                 (7 + 3) / 10]\r"
     ]
    },
    {
     "name": "stdout",
     "output_type": "stream",
     "text": [
      "  After cleaning: 1,378,413\n"
     ]
    },
    {
     "name": "stderr",
     "output_type": "stream",
     "text": [
      "                                                                                \r"
     ]
    }
   ],
   "source": [
    "reviews_cleaned, meta_cleaned, user_counts = clean_data_remove_outliers(reviews_df, meta_df)"
   ]
  },
  {
   "cell_type": "code",
   "execution_count": 15,
   "id": "37e550d6-e8ce-4dc1-b4fd-8b49230fafc7",
   "metadata": {
    "tags": []
   },
   "outputs": [],
   "source": [
    "def save_cleaned_eda_data(reviews_cleaned, meta_cleaned):\n",
    "    \"\"\"Save cleaned data for next notebooks\"\"\"\n",
    "    print(\"=== SAVING CLEANED DATA ===\")\n",
    "    \n",
    "    # Save cleaned reviews\n",
    "    if USE_DEV:\n",
    "        reviews_output = f\"{intermediate_bucket}/reviews_cleaned_eda_dev\"\n",
    "        meta_output = f\"{intermediate_bucket}/meta_cleaned_eda_dev\"\n",
    "    else:\n",
    "        reviews_output = f\"{intermediate_bucket}/reviews_cleaned_eda\"\n",
    "        meta_output = f\"{intermediate_bucket}/meta_cleaned_eda\"\n",
    "    \n",
    "    reviews_cleaned.repartition(50).write.mode(\"overwrite\").parquet(reviews_output)\n",
    "    meta_cleaned.repartition(20).write.mode(\"overwrite\").parquet(meta_output)\n",
    "    \n",
    "    print(f\"Saved cleaned reviews to: {reviews_output}\")\n",
    "    print(f\"Saved cleaned metadata to: {meta_output}\")\n",
    "    \n",
    "    # Save summary statistics\n",
    "    summary = {\n",
    "        \"total_reviews\": reviews_cleaned.count(),\n",
    "        \"total_products\": meta_cleaned.count(),\n",
    "        \"date_range\": \"1996-2023\",\n",
    "        \"high_volume_users\": reviews_cleaned.filter(F.col(\"high_volume_user\") == True).select(\"user_id\").distinct().count()\n",
    "    }\n",
    "    \n",
    "    print(\"\\nSummary statistics:\")\n",
    "    for key, value in summary.items():\n",
    "        print(f\"  {key}: {value}\")\n",
    "    \n",
    "    return summary"
   ]
  },
  {
   "cell_type": "code",
   "execution_count": 16,
   "id": "4060485d-4c76-443e-8e54-e6b98dcc76da",
   "metadata": {
    "tags": []
   },
   "outputs": [
    {
     "name": "stdout",
     "output_type": "stream",
     "text": [
      "=== SAVING CLEANED DATA ===\n"
     ]
    },
    {
     "name": "stderr",
     "output_type": "stream",
     "text": [
      "                                                                                \r"
     ]
    },
    {
     "name": "stdout",
     "output_type": "stream",
     "text": [
      "Saved cleaned reviews to: gs://msca-bdp-students-bucket/shared_data/apavlovic/final_project/reviews_cleaned_eda_dev\n",
      "Saved cleaned metadata to: gs://msca-bdp-students-bucket/shared_data/apavlovic/final_project/meta_cleaned_eda_dev\n"
     ]
    },
    {
     "name": "stderr",
     "output_type": "stream",
     "text": [
      "25/05/25 06:17:25 INFO PlanChangeLogger:                                        \n",
      " Dataproc Rule org.apache.spark.sql.catalyst.optimizer.google.ConvertToLeftSemiJoin effective 1 times.\n",
      "\n",
      "[Stage 122:==========================================>            (13 + 4) / 17]\r"
     ]
    },
    {
     "name": "stdout",
     "output_type": "stream",
     "text": [
      "\n",
      "Summary statistics:\n",
      "  total_reviews: 6191852\n",
      "  total_products: 1378413\n",
      "  date_range: 1996-2023\n",
      "  high_volume_users: 29620\n"
     ]
    },
    {
     "name": "stderr",
     "output_type": "stream",
     "text": [
      "                                                                                \r"
     ]
    }
   ],
   "source": [
    "summary = save_cleaned_eda_data(reviews_cleaned, meta_cleaned)"
   ]
  },
  {
   "cell_type": "code",
   "execution_count": 17,
   "id": "c35b782d-d6cb-4835-a537-c7f28c198977",
   "metadata": {
    "tags": []
   },
   "outputs": [],
   "source": [
    "def create_eda_timeline_plot(yearly_counts):\n",
    "    \"\"\"Create timeline plot highlighting peaks and valleys\"\"\"\n",
    "    print(\"=== CREATING TIMELINE VISUALIZATION ===\")\n",
    "    \n",
    "    yearly_pd = yearly_counts.toPandas()\n",
    "    \n",
    "    plt.figure(figsize=(14, 6))\n",
    "    bars = plt.bar(yearly_pd['year'], yearly_pd['count'], color='steelblue', alpha=0.8)\n",
    "    \n",
    "    # Highlight outliers\n",
    "    Q1 = yearly_pd['count'].quantile(0.25)\n",
    "    Q3 = yearly_pd['count'].quantile(0.75)\n",
    "    IQR = Q3 - Q1\n",
    "    \n",
    "    for i, row in yearly_pd.iterrows():\n",
    "        if row['count'] > Q3 + 1.5 * IQR:\n",
    "            bars[i].set_color('red')\n",
    "            bars[i].set_alpha(1.0)\n",
    "            plt.annotate(f\"Peak\\n{row['count']:,.0f}\", \n",
    "                        xy=(row['year'], row['count']),\n",
    "                        xytext=(0, 10), textcoords='offset points', \n",
    "                        ha='center', fontsize=8)\n",
    "        elif row['count'] < Q1 - 1.5 * IQR:\n",
    "            bars[i].set_color('orange')\n",
    "            bars[i].set_alpha(1.0)\n",
    "    \n",
    "    plt.xlabel('Year')\n",
    "    plt.ylabel('Number of Reviews')\n",
    "    plt.title('Amazon Reviews Timeline - Peaks and Valleys Highlighted')\n",
    "    plt.xticks(rotation=45)\n",
    "    plt.grid(axis='y', alpha=0.3)\n",
    "    \n",
    "    # Add legend\n",
    "    from matplotlib.patches import Patch\n",
    "    legend_elements = [\n",
    "        Patch(facecolor='steelblue', alpha=0.8, label='Normal'),\n",
    "        Patch(facecolor='red', label='Peak (Outlier)'),\n",
    "        Patch(facecolor='orange', label='Valley (Outlier)')\n",
    "    ]\n",
    "    plt.legend(handles=legend_elements)\n",
    "    \n",
    "    plt.tight_layout()\n",
    "    plt.savefig('eda_timeline_analysis.png', dpi=300, bbox_inches='tight')\n",
    "    plt.show()"
   ]
  },
  {
   "cell_type": "code",
   "execution_count": 18,
   "id": "1a603689-b2dd-4ff0-bbde-d15c84345596",
   "metadata": {
    "tags": []
   },
   "outputs": [
    {
     "name": "stdout",
     "output_type": "stream",
     "text": [
      "=== CREATING TIMELINE VISUALIZATION ===\n"
     ]
    },
    {
     "data": {
      "image/png": "[encoded data removed]",
      "text/plain": [
       "<Figure size 1400x600 with 1 Axes>"
      ]
     },
     "metadata": {},
     "output_type": "display_data"
    }
   ],
   "source": [
    "create_eda_timeline_plot(yearly_counts)"
   ]
  },
  {
   "cell_type": "code",
   "execution_count": 19,
   "id": "69db4390-190b-4e27-95df-07c10f9758cc",
   "metadata": {
    "tags": []
   },
   "outputs": [
    {
     "data": {
      "text/plain": [
       "20"
      ]
     },
     "execution_count": 19,
     "metadata": {},
     "output_type": "execute_result"
    }
   ],
   "source": [
    "2+6*3"
   ]
  },
  {
   "cell_type": "code",
   "execution_count": null,
   "id": "00c2085e-c621-4434-b35b-97d941152569",
   "metadata": {},
   "outputs": [],
   "source": []
  }
 ],
 "metadata": {
  "environment": {
   "kernel": "9c39b79e5d2e7072beb4bd59-runtime-000091a417d9",
   "name": "workbench-notebooks.m129",
   "type": "gcloud",
   "uri": "us-docker.pkg.dev/deeplearning-platform-release/gcr.io/workbench-notebooks:m129"
  },
  "kernelspec": {
   "display_name": "bdp-student-template on Serverless Spark (Remote)",
   "language": "python",
   "name": "9c39b79e5d2e7072beb4bd59-runtime-000091a417d9"
  },
  "language_info": {
   "codemirror_mode": {
    "name": "ipython",
    "version": 3
   },
   "file_extension": ".py",
   "mimetype": "text/x-python",
   "name": "python",
   "nbconvert_exporter": "python",
   "pygments_lexer": "ipython3",
   "version": "3.12.3"
  }
 },
 "nbformat": 4,
 "nbformat_minor": 5
}
